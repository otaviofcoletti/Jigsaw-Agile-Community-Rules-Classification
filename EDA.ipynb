{
 "cells": [
  {
   "cell_type": "markdown",
   "id": "b3c7156d",
   "metadata": {},
   "source": [
    "# Exploratory Data Analysis \n",
    "\n",
    "This notebooks foucus on the EDA of the Jigsaw Agile Community Rules Classification Kaggle Competition"
   ]
  },
  {
   "cell_type": "markdown",
   "id": "c67a8e13",
   "metadata": {},
   "source": [
    "## Importing Bibs"
   ]
  },
  {
   "cell_type": "code",
   "execution_count": 23,
   "id": "3b2acc79",
   "metadata": {},
   "outputs": [],
   "source": [
    "import pandas as pd\n",
    "import numpy as np\n",
    "import matplotlib.pyplot as plt\n",
    "import seaborn as sns\n",
    "from collections import Counter\n",
    "import itertools\n",
    "from wordcloud import WordCloud"
   ]
  },
  {
   "cell_type": "markdown",
   "id": "7da607f2",
   "metadata": {},
   "source": [
    "## 1.Loading Data"
   ]
  },
  {
   "cell_type": "code",
   "execution_count": 24,
   "id": "2444cea0",
   "metadata": {},
   "outputs": [
    {
     "name": "stdout",
     "output_type": "stream",
     "text": [
      "Training data shape: (2029, 9)\n",
      "Test data shape:     (10, 8)\n"
     ]
    },
    {
     "data": {
      "text/html": [
       "<div>\n",
       "<style scoped>\n",
       "    .dataframe tbody tr th:only-of-type {\n",
       "        vertical-align: middle;\n",
       "    }\n",
       "\n",
       "    .dataframe tbody tr th {\n",
       "        vertical-align: top;\n",
       "    }\n",
       "\n",
       "    .dataframe thead th {\n",
       "        text-align: right;\n",
       "    }\n",
       "</style>\n",
       "<table border=\"1\" class=\"dataframe\">\n",
       "  <thead>\n",
       "    <tr style=\"text-align: right;\">\n",
       "      <th></th>\n",
       "      <th>row_id</th>\n",
       "      <th>body</th>\n",
       "      <th>rule</th>\n",
       "      <th>subreddit</th>\n",
       "      <th>positive_example_1</th>\n",
       "      <th>positive_example_2</th>\n",
       "      <th>negative_example_1</th>\n",
       "      <th>negative_example_2</th>\n",
       "      <th>rule_violation</th>\n",
       "    </tr>\n",
       "  </thead>\n",
       "  <tbody>\n",
       "    <tr>\n",
       "      <th>0</th>\n",
       "      <td>0</td>\n",
       "      <td>Banks don't want you to know this! Click here to know more!</td>\n",
       "      <td>No Advertising: Spam, referral links, unsolicited advertising, and promotional content are not allowed.</td>\n",
       "      <td>Futurology</td>\n",
       "      <td>If you could tell your younger self something different about sex, what would that be?\\n\\ni AM IN A CONTEST TO WIN FUNDING FOR MY SEX POSITIVE FILM: VOTE HERE:\\n\\nhttp://sheknows.offerpop.com/campaign/813112/entry/v144417</td>\n",
       "      <td>hunt for lady for jack off in neighbourhood http://url.inmusi.com/gakq</td>\n",
       "      <td>Watch Golden Globe Awards 2017 Live Online in HD Coverage without ADS (VIP STREAMS)\\n=\\n\\nHD STREAM QUALITY &gt;&gt;&gt; [WATCH LINK1](http://forum.submitexpress.com/viewtopic.php?f=9&amp;t=215858)\\n=\\n\\nHD BROADCASTING QUALITY &gt;&gt;&gt; [WATCH LINK1](http://forum.submitexpress.com/viewtopic.php?f=9&amp;t=215858)\\n=\\n\\nMobile Compatibility: YES\\n=\\n\\nNO ADS | NO ADS | ADS\\n=\\n</td>\n",
       "      <td>DOUBLE CEE x BANDS EPPS - \"BIRDS\"\\n\\nDOWNLOAD/STREAM:\\n\\nhttp://music.theblacksmithed.com/download/birds/</td>\n",
       "      <td>0</td>\n",
       "    </tr>\n",
       "    <tr>\n",
       "      <th>1</th>\n",
       "      <td>1</td>\n",
       "      <td>SD Stream [ ENG Link 1] (http://www.sportsstreams247.com/astra-giurgiu-vs-fc-austria-wien/)</td>\n",
       "      <td>No Advertising: Spam, referral links, unsolicited advertising, and promotional content are not allowed.</td>\n",
       "      <td>soccerstreams</td>\n",
       "      <td>[I wanna kiss you all over! Stunning!](http://www.oilflush.life/2017/01/26/6/)</td>\n",
       "      <td>LOLGA.COM is One of the First Professional Online Gold sites. By Now, As A Game Gold Seller, we've over more than 5 yrs Of Experience And Can Pass That On To Our Customers.</td>\n",
       "      <td>#Rapper \\n🚨Straight Outta Cross Keys SC 🚨YouTube Search Beanie 864 Click Link BELOW To Hear Hit Single\\n  \"Ah Man\" \\n Beanie 864 FEAT King Kota \\n (King Kota Is Only 15!) Lit 🌡🔥👍💵💯Fr Fr \\nhttps://youtu.be/tLqbV1Jmt5Y</td>\n",
       "      <td>[15 Amazing Hidden Features Of Google Search You Probably Don’t Know](http://www.madpeoples.com/2017/01/02  No one would argue the fact that Google is one of the most useful sihttp://www.madpeoples.com/2016/12/31/15-amazing-hidden-features-of-google-search-you-probably-dont-know/tes on the Internet. Unfortunately, most people only use about...?utm_source=reddit&amp;utm_campaign=samreen&amp;utm_medium=cpc)</td>\n",
       "      <td>0</td>\n",
       "    </tr>\n",
       "    <tr>\n",
       "      <th>2</th>\n",
       "      <td>2</td>\n",
       "      <td>Lol. Try appealing the ban and say you won't do it again.</td>\n",
       "      <td>No legal advice: Do not offer or request legal advice.</td>\n",
       "      <td>pcmasterrace</td>\n",
       "      <td>Don't break up with him or call the cops.  If you are willing to get beat up by him to stay with him, he is obviously a real winner and you know it, so you shouldn't leave him.</td>\n",
       "      <td>It'll be dismissed: https://en.wikipedia.org/wiki/New_York_Times_Co._v._Sullivan\\n\\nThe first amendment law here is SUPER settled.</td>\n",
       "      <td>Where is there a site that still works where you can jump the GPS. Is there a FAQ to do this with iPhone or Mac?</td>\n",
       "      <td>Because this statement of his is true. It isn't freedom of the press, it's libel. And because of this, your post serves as a promotion for Trump. Reported.</td>\n",
       "      <td>1</td>\n",
       "    </tr>\n",
       "    <tr>\n",
       "      <th>3</th>\n",
       "      <td>3</td>\n",
       "      <td>she will come your home open her legs with  and  you http://sh.ors.it/PALI2</td>\n",
       "      <td>No Advertising: Spam, referral links, unsolicited advertising, and promotional content are not allowed.</td>\n",
       "      <td>sex</td>\n",
       "      <td>Selling Tyrande codes for 3€ to paypal. PM. \\nhttp://imgur.com/a/IMARW</td>\n",
       "      <td>tight pussy watch for your cock get her at this point http://macanasmagazine.com/yourls/hnof</td>\n",
       "      <td>NSFW(obviously) http://spankbang.com/iy3u/video/marica+hase+mirrors+edge</td>\n",
       "      <td>Good News ::Download WhatsApp 2.16.230 APK for Android – Latest Version</td>\n",
       "      <td>1</td>\n",
       "    </tr>\n",
       "    <tr>\n",
       "      <th>4</th>\n",
       "      <td>4</td>\n",
       "      <td>code free tyrande ---&gt;&gt;&gt; [Imgur](http://i.imgur.com/KlvssCl.png)\\n\\nfor you and your friend 2 codes for 4 dollars https://www.paypal.com/cgi-bin/webscr?cmd=_s-xclick&amp;hosted_button_id=UN4E27AG7BWKS\\n\\n2$... buy one directly from here: https://www.paypal.com/cgi-bin/webscr?cmd=_s-xclick&amp;hosted_button_id=VP3S5HQRE7T7E\\n</td>\n",
       "      <td>No Advertising: Spam, referral links, unsolicited advertising, and promotional content are not allowed.</td>\n",
       "      <td>hearthstone</td>\n",
       "      <td>wow!! amazing reminds me of the old days.Well Do you desire a great spell caster and a herbal doctor to help you solve any problem you are going through? i am a proud testimony of what king favour solution temple has offered me. Contact him now at kingfavoursolutiontemple@yahoo.com You will be the next to testify.bye everyone</td>\n",
       "      <td>seek for lady for sex in around http://p77.pl/12yb9</td>\n",
       "      <td>must be watch movie https://sites.google.com/site/greatescape1963xx/-jagten-2012-full-movie</td>\n",
       "      <td>We're streaming Pokemon Veitnamese Crystal RIGHT NOW, come watch https://www.twitch.tv/adandyguyinspace55.</td>\n",
       "      <td>1</td>\n",
       "    </tr>\n",
       "  </tbody>\n",
       "</table>\n",
       "</div>"
      ],
      "text/plain": [
       "   row_id  \\\n",
       "0       0   \n",
       "1       1   \n",
       "2       2   \n",
       "3       3   \n",
       "4       4   \n",
       "\n",
       "                                                                                                                                                                                                                                                                                                                             body  \\\n",
       "0                                                                                                                                                                                                                                                                     Banks don't want you to know this! Click here to know more!   \n",
       "1                                                                                                                                                                                                                                     SD Stream [ ENG Link 1] (http://www.sportsstreams247.com/astra-giurgiu-vs-fc-austria-wien/)   \n",
       "2                                                                                                                                                                                                                                                                       Lol. Try appealing the ban and say you won't do it again.   \n",
       "3                                                                                                                                                                                                                                                     she will come your home open her legs with  and  you http://sh.ors.it/PALI2   \n",
       "4  code free tyrande --->>> [Imgur](http://i.imgur.com/KlvssCl.png)\\n\\nfor you and your friend 2 codes for 4 dollars https://www.paypal.com/cgi-bin/webscr?cmd=_s-xclick&hosted_button_id=UN4E27AG7BWKS\\n\\n2$... buy one directly from here: https://www.paypal.com/cgi-bin/webscr?cmd=_s-xclick&hosted_button_id=VP3S5HQRE7T7E\\n   \n",
       "\n",
       "                                                                                                      rule  \\\n",
       "0  No Advertising: Spam, referral links, unsolicited advertising, and promotional content are not allowed.   \n",
       "1  No Advertising: Spam, referral links, unsolicited advertising, and promotional content are not allowed.   \n",
       "2                                                   No legal advice: Do not offer or request legal advice.   \n",
       "3  No Advertising: Spam, referral links, unsolicited advertising, and promotional content are not allowed.   \n",
       "4  No Advertising: Spam, referral links, unsolicited advertising, and promotional content are not allowed.   \n",
       "\n",
       "       subreddit  \\\n",
       "0     Futurology   \n",
       "1  soccerstreams   \n",
       "2   pcmasterrace   \n",
       "3            sex   \n",
       "4    hearthstone   \n",
       "\n",
       "                                                                                                                                                                                                                                                                                                                         positive_example_1  \\\n",
       "0                                                                                                             If you could tell your younger self something different about sex, what would that be?\\n\\ni AM IN A CONTEST TO WIN FUNDING FOR MY SEX POSITIVE FILM: VOTE HERE:\\n\\nhttp://sheknows.offerpop.com/campaign/813112/entry/v144417   \n",
       "1                                                                                                                                                                                                                                                            [I wanna kiss you all over! Stunning!](http://www.oilflush.life/2017/01/26/6/)   \n",
       "2                                                                                                                                                          Don't break up with him or call the cops.  If you are willing to get beat up by him to stay with him, he is obviously a real winner and you know it, so you shouldn't leave him.   \n",
       "3                                                                                                                                                                                                                                                                    Selling Tyrande codes for 3€ to paypal. PM. \\nhttp://imgur.com/a/IMARW   \n",
       "4   wow!! amazing reminds me of the old days.Well Do you desire a great spell caster and a herbal doctor to help you solve any problem you are going through? i am a proud testimony of what king favour solution temple has offered me. Contact him now at kingfavoursolutiontemple@yahoo.com You will be the next to testify.bye everyone   \n",
       "\n",
       "                                                                                                                                                             positive_example_2  \\\n",
       "0                                                                                                        hunt for lady for jack off in neighbourhood http://url.inmusi.com/gakq   \n",
       "1  LOLGA.COM is One of the First Professional Online Gold sites. By Now, As A Game Gold Seller, we've over more than 5 yrs Of Experience And Can Pass That On To Our Customers.   \n",
       "2                                            It'll be dismissed: https://en.wikipedia.org/wiki/New_York_Times_Co._v._Sullivan\\n\\nThe first amendment law here is SUPER settled.   \n",
       "3                                                                                  tight pussy watch for your cock get her at this point http://macanasmagazine.com/yourls/hnof   \n",
       "4                                                                                                                           seek for lady for sex in around http://p77.pl/12yb9   \n",
       "\n",
       "                                                                                                                                                                                                                                                                                                                                                     negative_example_1  \\\n",
       "0  Watch Golden Globe Awards 2017 Live Online in HD Coverage without ADS (VIP STREAMS)\\n=\\n\\nHD STREAM QUALITY >>> [WATCH LINK1](http://forum.submitexpress.com/viewtopic.php?f=9&t=215858)\\n=\\n\\nHD BROADCASTING QUALITY >>> [WATCH LINK1](http://forum.submitexpress.com/viewtopic.php?f=9&t=215858)\\n=\\n\\nMobile Compatibility: YES\\n=\\n\\nNO ADS | NO ADS | ADS\\n=\\n   \n",
       "1                                                                                                                                              #Rapper \\n🚨Straight Outta Cross Keys SC 🚨YouTube Search Beanie 864 Click Link BELOW To Hear Hit Single\\n  \"Ah Man\" \\n Beanie 864 FEAT King Kota \\n (King Kota Is Only 15!) Lit 🌡🔥👍💵💯Fr Fr \\nhttps://youtu.be/tLqbV1Jmt5Y   \n",
       "2                                                                                                                                                                                                                                                      Where is there a site that still works where you can jump the GPS. Is there a FAQ to do this with iPhone or Mac?   \n",
       "3                                                                                                                                                                                                                                                                                              NSFW(obviously) http://spankbang.com/iy3u/video/marica+hase+mirrors+edge   \n",
       "4                                                                                                                                                                                                                                                                           must be watch movie https://sites.google.com/site/greatescape1963xx/-jagten-2012-full-movie   \n",
       "\n",
       "                                                                                                                                                                                                                                                                                                                                                                                                 negative_example_2  \\\n",
       "0                                                                                                                                                                                                                                                                                                         DOUBLE CEE x BANDS EPPS - \"BIRDS\"\\n\\nDOWNLOAD/STREAM:\\n\\nhttp://music.theblacksmithed.com/download/birds/   \n",
       "1  [15 Amazing Hidden Features Of Google Search You Probably Don’t Know](http://www.madpeoples.com/2017/01/02  No one would argue the fact that Google is one of the most useful sihttp://www.madpeoples.com/2016/12/31/15-amazing-hidden-features-of-google-search-you-probably-dont-know/tes on the Internet. Unfortunately, most people only use about...?utm_source=reddit&utm_campaign=samreen&utm_medium=cpc)   \n",
       "2                                                                                                                                                                                                                                                       Because this statement of his is true. It isn't freedom of the press, it's libel. And because of this, your post serves as a promotion for Trump. Reported.   \n",
       "3                                                                                                                                                                                                                                                                                                                                           Good News ::Download WhatsApp 2.16.230 APK for Android – Latest Version   \n",
       "4                                                                                                                                                                                                                                                                                                        We're streaming Pokemon Veitnamese Crystal RIGHT NOW, come watch https://www.twitch.tv/adandyguyinspace55.   \n",
       "\n",
       "   rule_violation  \n",
       "0               0  \n",
       "1               0  \n",
       "2               1  \n",
       "3               1  \n",
       "4               1  "
      ]
     },
     "execution_count": 24,
     "metadata": {},
     "output_type": "execute_result"
    }
   ],
   "source": [
    "TRAIN_DF_PATH = \"train.csv\"\n",
    "TEST_DF_PATH = \"test.csv\"\n",
    "\n",
    "train_df = pd.read_csv(TRAIN_DF_PATH)\n",
    "test_df = pd.read_csv(TEST_DF_PATH)\n",
    "pd.set_option('display.max_colwidth', None)\n",
    "print(f\"Training data shape: {train_df.shape}\")\n",
    "print(f\"Test data shape:     {test_df.shape}\")\n",
    "train_df.head(5)"
   ]
  },
  {
   "cell_type": "markdown",
   "id": "a939cb9b",
   "metadata": {},
   "source": [
    "## 2.Data quality"
   ]
  },
  {
   "cell_type": "code",
   "execution_count": 25,
   "id": "9af62312",
   "metadata": {},
   "outputs": [
    {
     "name": "stdout",
     "output_type": "stream",
     "text": [
      "<class 'pandas.core.frame.DataFrame'>\n",
      "RangeIndex: 2029 entries, 0 to 2028\n",
      "Data columns (total 9 columns):\n",
      " #   Column              Non-Null Count  Dtype \n",
      "---  ------              --------------  ----- \n",
      " 0   row_id              2029 non-null   int64 \n",
      " 1   body                2029 non-null   object\n",
      " 2   rule                2029 non-null   object\n",
      " 3   subreddit           2029 non-null   object\n",
      " 4   positive_example_1  2029 non-null   object\n",
      " 5   positive_example_2  2029 non-null   object\n",
      " 6   negative_example_1  2029 non-null   object\n",
      " 7   negative_example_2  2029 non-null   object\n",
      " 8   rule_violation      2029 non-null   int64 \n",
      "dtypes: int64(2), object(7)\n",
      "memory usage: 142.8+ KB\n"
     ]
    },
    {
     "data": {
      "text/plain": [
       "None"
      ]
     },
     "metadata": {},
     "output_type": "display_data"
    }
   ],
   "source": [
    "display(train_df.info())"
   ]
  },
  {
   "cell_type": "markdown",
   "id": "3e189372",
   "metadata": {},
   "source": [
    "Data types are Ok"
   ]
  },
  {
   "cell_type": "code",
   "execution_count": 26,
   "id": "523c1ada",
   "metadata": {},
   "outputs": [
    {
     "name": "stdout",
     "output_type": "stream",
     "text": [
      "\n",
      "Missing values per column:\n",
      "row_id                0\n",
      "body                  0\n",
      "rule                  0\n",
      "subreddit             0\n",
      "positive_example_1    0\n",
      "positive_example_2    0\n",
      "negative_example_1    0\n",
      "negative_example_2    0\n",
      "rule_violation        0\n",
      "dtype: int64\n"
     ]
    }
   ],
   "source": [
    "missing = train_df.isnull().sum()\n",
    "print(\"\\nMissing values per column:\")\n",
    "print(missing)"
   ]
  },
  {
   "cell_type": "markdown",
   "id": "31335a73",
   "metadata": {},
   "source": [
    "No missing or null values :D"
   ]
  },
  {
   "cell_type": "markdown",
   "id": "29116801",
   "metadata": {},
   "source": [
    "| Variable                                | Description                                                                                                                                                        |\n",
    "| --------------------------------------- | ------------------------------------------------------------------------------------------------------------------------------------------------------------------ |\n",
    "| row_id                                  | A unique identifier for each row in the dataset.                                                                                                                   |\n",
    "| body                                    | The main text content of the post or comment that needs to be evaluated.                                                                                           |\n",
    "| rule                                    | The specific community (subreddit) rule that is being checked.                                                                                                     |\n",
    "| subreddit                               | The name of the Reddit community from which the text and rule were sourced.                                                                                        |\n",
    "| positive_example_1/2                 | Examples of text that violates the specified rule.                                                                               |\n",
    "| negative_example_1/2                    | Examples of text that adhere the specified rule behavior.                                                                             |\n",
    "| rule_violation (Target)                 | The target variable. It indicates whether the text in body violates the rule (True) or not (False). |"
   ]
  },
  {
   "cell_type": "markdown",
   "id": "be2a22b5",
   "metadata": {},
   "source": [
    "## 3.Data Balance and Unique Values"
   ]
  },
  {
   "cell_type": "code",
   "execution_count": 27,
   "id": "7e8ecc7d",
   "metadata": {},
   "outputs": [
    {
     "name": "stdout",
     "output_type": "stream",
     "text": [
      "Number of unique rules:      2\n",
      "Number of unique subreddits: 100\n"
     ]
    },
    {
     "data": {
      "image/png": "[encoded data removed]",
      "text/plain": [
       "<Figure size 600x400 with 1 Axes>"
      ]
     },
     "metadata": {},
     "output_type": "display_data"
    },
    {
     "name": "stdout",
     "output_type": "stream",
     "text": [
      "Overall violation rate: 0.508\n"
     ]
    }
   ],
   "source": [
    "n_rules      = train_df['rule'].nunique()\n",
    "n_subreddits = train_df['subreddit'].nunique()\n",
    "print(f\"Number of unique rules:      {n_rules}\")\n",
    "print(f\"Number of unique subreddits: {n_subreddits}\")\n",
    "\n",
    "plt.figure(figsize=(6,4))\n",
    "sns.countplot(x='rule_violation', data=train_df)\n",
    "plt.title('Distribution of Rule Violation (0 = no, 1 = yes)')\n",
    "plt.show()\n",
    "\n",
    "rate_overall = train_df['rule_violation'].mean()\n",
    "print(f\"Overall violation rate: {rate_overall:.3f}\")"
   ]
  },
  {
   "cell_type": "code",
   "execution_count": 28,
   "id": "71e217e0",
   "metadata": {},
   "outputs": [
    {
     "data": {
      "text/plain": [
       "array(['No Advertising: Spam, referral links, unsolicited advertising, and promotional content are not allowed.',\n",
       "       'No legal advice: Do not offer or request legal advice.'],\n",
       "      dtype=object)"
      ]
     },
     "metadata": {},
     "output_type": "display_data"
    }
   ],
   "source": [
    "display(train_df[\"rule\"].unique())"
   ]
  },
  {
   "cell_type": "markdown",
   "id": "51236cdd",
   "metadata": {},
   "source": [
    "Data set is pretty balanced, just 2 rules to evaluate "
   ]
  }
 ],
 "metadata": {
  "kernelspec": {
   "display_name": "base",
   "language": "python",
   "name": "python3"
  },
  "language_info": {
   "codemirror_mode": {
    "name": "ipython",
    "version": 3
   },
   "file_extension": ".py",
   "mimetype": "text/x-python",
   "name": "python",
   "nbconvert_exporter": "python",
   "pygments_lexer": "ipython3",
   "version": "3.13.5"
  }
 },
 "nbformat": 4,
 "nbformat_minor": 5
}
