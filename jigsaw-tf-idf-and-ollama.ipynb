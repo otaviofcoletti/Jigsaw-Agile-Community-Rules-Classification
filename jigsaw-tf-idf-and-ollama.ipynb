{
 "cells": [
  {
   "cell_type": "markdown",
   "id": "0db902d9",
   "metadata": {
    "papermill": {
     "duration": 0.005168,
     "end_time": "2025-10-13T11:44:06.410161",
     "exception": false,
     "start_time": "2025-10-13T11:44:06.404993",
     "status": "completed"
    },
    "tags": []
   },
   "source": [
    "# Exploratory Data Analysis \n",
    "\n",
    "This notebooks foucus on the EDA of the Jigsaw Agile Community Rules Classification Kaggle Competition"
   ]
  },
  {
   "cell_type": "markdown",
   "id": "1053e7de",
   "metadata": {
    "papermill": {
     "duration": 0.003681,
     "end_time": "2025-10-13T11:44:06.417969",
     "exception": false,
     "start_time": "2025-10-13T11:44:06.414288",
     "status": "completed"
    },
    "tags": []
   },
   "source": [
    "## Importing Bibs"
   ]
  },
  {
   "cell_type": "code",
   "execution_count": 1,
   "id": "b21e9195",
   "metadata": {
    "execution": {
     "iopub.execute_input": "2025-10-13T11:44:06.426912Z",
     "iopub.status.busy": "2025-10-13T11:44:06.426602Z",
     "iopub.status.idle": "2025-10-13T11:44:09.287444Z",
     "shell.execute_reply": "2025-10-13T11:44:09.286858Z"
    },
    "papermill": {
     "duration": 2.866966,
     "end_time": "2025-10-13T11:44:09.288926",
     "exception": false,
     "start_time": "2025-10-13T11:44:06.421960",
     "status": "completed"
    },
    "tags": []
   },
   "outputs": [],
   "source": [
    "import pandas as pd\n",
    "import numpy as np\n",
    "import matplotlib.pyplot as plt\n",
    "import seaborn as sns\n",
    "from collections import Counter\n",
    "import itertools\n",
    "# from wordcloud import WordCloud"
   ]
  },
  {
   "cell_type": "markdown",
   "id": "e7b0da19",
   "metadata": {
    "papermill": {
     "duration": 0.003459,
     "end_time": "2025-10-13T11:44:09.296384",
     "exception": false,
     "start_time": "2025-10-13T11:44:09.292925",
     "status": "completed"
    },
    "tags": []
   },
   "source": [
    "## 1.Loading Data"
   ]
  },
  {
   "cell_type": "code",
   "execution_count": 2,
   "id": "74cc8242",
   "metadata": {
    "execution": {
     "iopub.execute_input": "2025-10-13T11:44:09.304416Z",
     "iopub.status.busy": "2025-10-13T11:44:09.304113Z",
     "iopub.status.idle": "2025-10-13T11:44:09.398141Z",
     "shell.execute_reply": "2025-10-13T11:44:09.397416Z"
    },
    "papermill": {
     "duration": 0.099437,
     "end_time": "2025-10-13T11:44:09.399298",
     "exception": false,
     "start_time": "2025-10-13T11:44:09.299861",
     "status": "completed"
    },
    "tags": []
   },
   "outputs": [
    {
     "name": "stdout",
     "output_type": "stream",
     "text": [
      "Training data shape: (2029, 9)\n",
      "Test data shape:     (10, 8)\n"
     ]
    },
    {
     "data": {
      "text/html": [
       "<div>\n",
       "<style scoped>\n",
       "    .dataframe tbody tr th:only-of-type {\n",
       "        vertical-align: middle;\n",
       "    }\n",
       "\n",
       "    .dataframe tbody tr th {\n",
       "        vertical-align: top;\n",
       "    }\n",
       "\n",
       "    .dataframe thead th {\n",
       "        text-align: right;\n",
       "    }\n",
       "</style>\n",
       "<table border=\"1\" class=\"dataframe\">\n",
       "  <thead>\n",
       "    <tr style=\"text-align: right;\">\n",
       "      <th></th>\n",
       "      <th>row_id</th>\n",
       "      <th>body</th>\n",
       "      <th>rule</th>\n",
       "      <th>subreddit</th>\n",
       "      <th>positive_example_1</th>\n",
       "      <th>positive_example_2</th>\n",
       "      <th>negative_example_1</th>\n",
       "      <th>negative_example_2</th>\n",
       "      <th>rule_violation</th>\n",
       "    </tr>\n",
       "  </thead>\n",
       "  <tbody>\n",
       "    <tr>\n",
       "      <th>0</th>\n",
       "      <td>0</td>\n",
       "      <td>Banks don't want you to know this! Click here to know more!</td>\n",
       "      <td>No Advertising: Spam, referral links, unsolicited advertising, and promotional content are not allowed.</td>\n",
       "      <td>Futurology</td>\n",
       "      <td>If you could tell your younger self something different about sex, what would that be?\\n\\ni AM IN A CONTEST TO WIN FUNDING FOR MY SEX POSITIVE FILM: VOTE HERE:\\n\\nhttp://sheknows.offerpop.com/campaign/813112/entry/v144417</td>\n",
       "      <td>hunt for lady for jack off in neighbourhood http://url.inmusi.com/gakq</td>\n",
       "      <td>Watch Golden Globe Awards 2017 Live Online in HD Coverage without ADS (VIP STREAMS)\\n=\\n\\nHD STREAM QUALITY &gt;&gt;&gt; [WATCH LINK1](http://forum.submitexpress.com/viewtopic.php?f=9&amp;t=215858)\\n=\\n\\nHD BROADCASTING QUALITY &gt;&gt;&gt; [WATCH LINK1](http://forum.submitexpress.com/viewtopic.php?f=9&amp;t=215858)\\n=\\n\\nMobile Compatibility: YES\\n=\\n\\nNO ADS | NO ADS | ADS\\n=\\n</td>\n",
       "      <td>DOUBLE CEE x BANDS EPPS - \"BIRDS\"\\n\\nDOWNLOAD/STREAM:\\n\\nhttp://music.theblacksmithed.com/download/birds/</td>\n",
       "      <td>0</td>\n",
       "    </tr>\n",
       "    <tr>\n",
       "      <th>1</th>\n",
       "      <td>1</td>\n",
       "      <td>SD Stream [ ENG Link 1] (http://www.sportsstreams247.com/astra-giurgiu-vs-fc-austria-wien/)</td>\n",
       "      <td>No Advertising: Spam, referral links, unsolicited advertising, and promotional content are not allowed.</td>\n",
       "      <td>soccerstreams</td>\n",
       "      <td>[I wanna kiss you all over! Stunning!](http://www.oilflush.life/2017/01/26/6/)</td>\n",
       "      <td>LOLGA.COM is One of the First Professional Online Gold sites. By Now, As A Game Gold Seller, we've over more than 5 yrs Of Experience And Can Pass That On To Our Customers.</td>\n",
       "      <td>#Rapper \\n🚨Straight Outta Cross Keys SC 🚨YouTube Search Beanie 864 Click Link BELOW To Hear Hit Single\\n  \"Ah Man\" \\n Beanie 864 FEAT King Kota \\n (King Kota Is Only 15!) Lit 🌡🔥👍💵💯Fr Fr \\nhttps://youtu.be/tLqbV1Jmt5Y</td>\n",
       "      <td>[15 Amazing Hidden Features Of Google Search You Probably Don’t Know](http://www.madpeoples.com/2017/01/02  No one would argue the fact that Google is one of the most useful sihttp://www.madpeoples.com/2016/12/31/15-amazing-hidden-features-of-google-search-you-probably-dont-know/tes on the Internet. Unfortunately, most people only use about...?utm_source=reddit&amp;utm_campaign=samreen&amp;utm_medium=cpc)</td>\n",
       "      <td>0</td>\n",
       "    </tr>\n",
       "    <tr>\n",
       "      <th>2</th>\n",
       "      <td>2</td>\n",
       "      <td>Lol. Try appealing the ban and say you won't do it again.</td>\n",
       "      <td>No legal advice: Do not offer or request legal advice.</td>\n",
       "      <td>pcmasterrace</td>\n",
       "      <td>Don't break up with him or call the cops.  If you are willing to get beat up by him to stay with him, he is obviously a real winner and you know it, so you shouldn't leave him.</td>\n",
       "      <td>It'll be dismissed: https://en.wikipedia.org/wiki/New_York_Times_Co._v._Sullivan\\n\\nThe first amendment law here is SUPER settled.</td>\n",
       "      <td>Where is there a site that still works where you can jump the GPS. Is there a FAQ to do this with iPhone or Mac?</td>\n",
       "      <td>Because this statement of his is true. It isn't freedom of the press, it's libel. And because of this, your post serves as a promotion for Trump. Reported.</td>\n",
       "      <td>1</td>\n",
       "    </tr>\n",
       "    <tr>\n",
       "      <th>3</th>\n",
       "      <td>3</td>\n",
       "      <td>she will come your home open her legs with  and  you http://sh.ors.it/PALI2</td>\n",
       "      <td>No Advertising: Spam, referral links, unsolicited advertising, and promotional content are not allowed.</td>\n",
       "      <td>sex</td>\n",
       "      <td>Selling Tyrande codes for 3€ to paypal. PM. \\nhttp://imgur.com/a/IMARW</td>\n",
       "      <td>tight pussy watch for your cock get her at this point http://macanasmagazine.com/yourls/hnof</td>\n",
       "      <td>NSFW(obviously) http://spankbang.com/iy3u/video/marica+hase+mirrors+edge</td>\n",
       "      <td>Good News ::Download WhatsApp 2.16.230 APK for Android – Latest Version</td>\n",
       "      <td>1</td>\n",
       "    </tr>\n",
       "    <tr>\n",
       "      <th>4</th>\n",
       "      <td>4</td>\n",
       "      <td>code free tyrande ---&gt;&gt;&gt; [Imgur](http://i.imgur.com/KlvssCl.png)\\n\\nfor you and your friend 2 codes for 4 dollars https://www.paypal.com/cgi-bin/webscr?cmd=_s-xclick&amp;hosted_button_id=UN4E27AG7BWKS\\n\\n2$... buy one directly from here: https://www.paypal.com/cgi-bin/webscr?cmd=_s-xclick&amp;hosted_button_id=VP3S5HQRE7T7E\\n</td>\n",
       "      <td>No Advertising: Spam, referral links, unsolicited advertising, and promotional content are not allowed.</td>\n",
       "      <td>hearthstone</td>\n",
       "      <td>wow!! amazing reminds me of the old days.Well Do you desire a great spell caster and a herbal doctor to help you solve any problem you are going through? i am a proud testimony of what king favour solution temple has offered me. Contact him now at kingfavoursolutiontemple@yahoo.com You will be the next to testify.bye everyone</td>\n",
       "      <td>seek for lady for sex in around http://p77.pl/12yb9</td>\n",
       "      <td>must be watch movie https://sites.google.com/site/greatescape1963xx/-jagten-2012-full-movie</td>\n",
       "      <td>We're streaming Pokemon Veitnamese Crystal RIGHT NOW, come watch https://www.twitch.tv/adandyguyinspace55.</td>\n",
       "      <td>1</td>\n",
       "    </tr>\n",
       "  </tbody>\n",
       "</table>\n",
       "</div>"
      ],
      "text/plain": [
       "   row_id  \\\n",
       "0       0   \n",
       "1       1   \n",
       "2       2   \n",
       "3       3   \n",
       "4       4   \n",
       "\n",
       "                                                                                                                                                                                                                                                                                                                             body  \\\n",
       "0                                                                                                                                                                                                                                                                     Banks don't want you to know this! Click here to know more!   \n",
       "1                                                                                                                                                                                                                                     SD Stream [ ENG Link 1] (http://www.sportsstreams247.com/astra-giurgiu-vs-fc-austria-wien/)   \n",
       "2                                                                                                                                                                                                                                                                       Lol. Try appealing the ban and say you won't do it again.   \n",
       "3                                                                                                                                                                                                                                                     she will come your home open her legs with  and  you http://sh.ors.it/PALI2   \n",
       "4  code free tyrande --->>> [Imgur](http://i.imgur.com/KlvssCl.png)\\n\\nfor you and your friend 2 codes for 4 dollars https://www.paypal.com/cgi-bin/webscr?cmd=_s-xclick&hosted_button_id=UN4E27AG7BWKS\\n\\n2$... buy one directly from here: https://www.paypal.com/cgi-bin/webscr?cmd=_s-xclick&hosted_button_id=VP3S5HQRE7T7E\\n   \n",
       "\n",
       "                                                                                                      rule  \\\n",
       "0  No Advertising: Spam, referral links, unsolicited advertising, and promotional content are not allowed.   \n",
       "1  No Advertising: Spam, referral links, unsolicited advertising, and promotional content are not allowed.   \n",
       "2                                                   No legal advice: Do not offer or request legal advice.   \n",
       "3  No Advertising: Spam, referral links, unsolicited advertising, and promotional content are not allowed.   \n",
       "4  No Advertising: Spam, referral links, unsolicited advertising, and promotional content are not allowed.   \n",
       "\n",
       "       subreddit  \\\n",
       "0     Futurology   \n",
       "1  soccerstreams   \n",
       "2   pcmasterrace   \n",
       "3            sex   \n",
       "4    hearthstone   \n",
       "\n",
       "                                                                                                                                                                                                                                                                                                                         positive_example_1  \\\n",
       "0                                                                                                             If you could tell your younger self something different about sex, what would that be?\\n\\ni AM IN A CONTEST TO WIN FUNDING FOR MY SEX POSITIVE FILM: VOTE HERE:\\n\\nhttp://sheknows.offerpop.com/campaign/813112/entry/v144417   \n",
       "1                                                                                                                                                                                                                                                            [I wanna kiss you all over! Stunning!](http://www.oilflush.life/2017/01/26/6/)   \n",
       "2                                                                                                                                                          Don't break up with him or call the cops.  If you are willing to get beat up by him to stay with him, he is obviously a real winner and you know it, so you shouldn't leave him.   \n",
       "3                                                                                                                                                                                                                                                                    Selling Tyrande codes for 3€ to paypal. PM. \\nhttp://imgur.com/a/IMARW   \n",
       "4   wow!! amazing reminds me of the old days.Well Do you desire a great spell caster and a herbal doctor to help you solve any problem you are going through? i am a proud testimony of what king favour solution temple has offered me. Contact him now at kingfavoursolutiontemple@yahoo.com You will be the next to testify.bye everyone   \n",
       "\n",
       "                                                                                                                                                             positive_example_2  \\\n",
       "0                                                                                                        hunt for lady for jack off in neighbourhood http://url.inmusi.com/gakq   \n",
       "1  LOLGA.COM is One of the First Professional Online Gold sites. By Now, As A Game Gold Seller, we've over more than 5 yrs Of Experience And Can Pass That On To Our Customers.   \n",
       "2                                            It'll be dismissed: https://en.wikipedia.org/wiki/New_York_Times_Co._v._Sullivan\\n\\nThe first amendment law here is SUPER settled.   \n",
       "3                                                                                  tight pussy watch for your cock get her at this point http://macanasmagazine.com/yourls/hnof   \n",
       "4                                                                                                                           seek for lady for sex in around http://p77.pl/12yb9   \n",
       "\n",
       "                                                                                                                                                                                                                                                                                                                                                     negative_example_1  \\\n",
       "0  Watch Golden Globe Awards 2017 Live Online in HD Coverage without ADS (VIP STREAMS)\\n=\\n\\nHD STREAM QUALITY >>> [WATCH LINK1](http://forum.submitexpress.com/viewtopic.php?f=9&t=215858)\\n=\\n\\nHD BROADCASTING QUALITY >>> [WATCH LINK1](http://forum.submitexpress.com/viewtopic.php?f=9&t=215858)\\n=\\n\\nMobile Compatibility: YES\\n=\\n\\nNO ADS | NO ADS | ADS\\n=\\n   \n",
       "1                                                                                                                                              #Rapper \\n🚨Straight Outta Cross Keys SC 🚨YouTube Search Beanie 864 Click Link BELOW To Hear Hit Single\\n  \"Ah Man\" \\n Beanie 864 FEAT King Kota \\n (King Kota Is Only 15!) Lit 🌡🔥👍💵💯Fr Fr \\nhttps://youtu.be/tLqbV1Jmt5Y   \n",
       "2                                                                                                                                                                                                                                                      Where is there a site that still works where you can jump the GPS. Is there a FAQ to do this with iPhone or Mac?   \n",
       "3                                                                                                                                                                                                                                                                                              NSFW(obviously) http://spankbang.com/iy3u/video/marica+hase+mirrors+edge   \n",
       "4                                                                                                                                                                                                                                                                           must be watch movie https://sites.google.com/site/greatescape1963xx/-jagten-2012-full-movie   \n",
       "\n",
       "                                                                                                                                                                                                                                                                                                                                                                                                 negative_example_2  \\\n",
       "0                                                                                                                                                                                                                                                                                                         DOUBLE CEE x BANDS EPPS - \"BIRDS\"\\n\\nDOWNLOAD/STREAM:\\n\\nhttp://music.theblacksmithed.com/download/birds/   \n",
       "1  [15 Amazing Hidden Features Of Google Search You Probably Don’t Know](http://www.madpeoples.com/2017/01/02  No one would argue the fact that Google is one of the most useful sihttp://www.madpeoples.com/2016/12/31/15-amazing-hidden-features-of-google-search-you-probably-dont-know/tes on the Internet. Unfortunately, most people only use about...?utm_source=reddit&utm_campaign=samreen&utm_medium=cpc)   \n",
       "2                                                                                                                                                                                                                                                       Because this statement of his is true. It isn't freedom of the press, it's libel. And because of this, your post serves as a promotion for Trump. Reported.   \n",
       "3                                                                                                                                                                                                                                                                                                                                           Good News ::Download WhatsApp 2.16.230 APK for Android – Latest Version   \n",
       "4                                                                                                                                                                                                                                                                                                        We're streaming Pokemon Veitnamese Crystal RIGHT NOW, come watch https://www.twitch.tv/adandyguyinspace55.   \n",
       "\n",
       "   rule_violation  \n",
       "0               0  \n",
       "1               0  \n",
       "2               1  \n",
       "3               1  \n",
       "4               1  "
      ]
     },
     "execution_count": 2,
     "metadata": {},
     "output_type": "execute_result"
    }
   ],
   "source": [
    "# TRAIN_DF_PATH = \"train.csv\"\n",
    "# TEST_DF_PATH = \"test.csv\"\n",
    "\n",
    "TRAIN_DF_PATH = \"/kaggle/input/jigsaw-agile-community-rules/train.csv\"\n",
    "TEST_DF_PATH = \"/kaggle/input/jigsaw-agile-community-rules/test.csv\"\n",
    "\n",
    "train_df = pd.read_csv(TRAIN_DF_PATH)\n",
    "test_df = pd.read_csv(TEST_DF_PATH)\n",
    "pd.set_option('display.max_colwidth', None)\n",
    "print(f\"Training data shape: {train_df.shape}\")\n",
    "print(f\"Test data shape:     {test_df.shape}\")\n",
    "train_df.head(5)"
   ]
  },
  {
   "cell_type": "markdown",
   "id": "8b5b7bff",
   "metadata": {
    "papermill": {
     "duration": 0.003863,
     "end_time": "2025-10-13T11:44:09.407605",
     "exception": false,
     "start_time": "2025-10-13T11:44:09.403742",
     "status": "completed"
    },
    "tags": []
   },
   "source": [
    "## 2.Data quality"
   ]
  },
  {
   "cell_type": "code",
   "execution_count": 3,
   "id": "7033b629",
   "metadata": {
    "execution": {
     "iopub.execute_input": "2025-10-13T11:44:09.416757Z",
     "iopub.status.busy": "2025-10-13T11:44:09.416097Z",
     "iopub.status.idle": "2025-10-13T11:44:09.435147Z",
     "shell.execute_reply": "2025-10-13T11:44:09.434520Z"
    },
    "papermill": {
     "duration": 0.024714,
     "end_time": "2025-10-13T11:44:09.436241",
     "exception": false,
     "start_time": "2025-10-13T11:44:09.411527",
     "status": "completed"
    },
    "tags": []
   },
   "outputs": [
    {
     "name": "stdout",
     "output_type": "stream",
     "text": [
      "<class 'pandas.core.frame.DataFrame'>\n",
      "RangeIndex: 2029 entries, 0 to 2028\n",
      "Data columns (total 9 columns):\n",
      " #   Column              Non-Null Count  Dtype \n",
      "---  ------              --------------  ----- \n",
      " 0   row_id              2029 non-null   int64 \n",
      " 1   body                2029 non-null   object\n",
      " 2   rule                2029 non-null   object\n",
      " 3   subreddit           2029 non-null   object\n",
      " 4   positive_example_1  2029 non-null   object\n",
      " 5   positive_example_2  2029 non-null   object\n",
      " 6   negative_example_1  2029 non-null   object\n",
      " 7   negative_example_2  2029 non-null   object\n",
      " 8   rule_violation      2029 non-null   int64 \n",
      "dtypes: int64(2), object(7)\n",
      "memory usage: 142.8+ KB\n"
     ]
    },
    {
     "data": {
      "text/plain": [
       "None"
      ]
     },
     "metadata": {},
     "output_type": "display_data"
    }
   ],
   "source": [
    "display(train_df.info())"
   ]
  },
  {
   "cell_type": "markdown",
   "id": "1ccf42f0",
   "metadata": {
    "papermill": {
     "duration": 0.003999,
     "end_time": "2025-10-13T11:44:09.444269",
     "exception": false,
     "start_time": "2025-10-13T11:44:09.440270",
     "status": "completed"
    },
    "tags": []
   },
   "source": [
    "Data types are Ok"
   ]
  },
  {
   "cell_type": "code",
   "execution_count": 4,
   "id": "bdc75f95",
   "metadata": {
    "execution": {
     "iopub.execute_input": "2025-10-13T11:44:09.453011Z",
     "iopub.status.busy": "2025-10-13T11:44:09.452834Z",
     "iopub.status.idle": "2025-10-13T11:44:09.457907Z",
     "shell.execute_reply": "2025-10-13T11:44:09.456990Z"
    },
    "papermill": {
     "duration": 0.010708,
     "end_time": "2025-10-13T11:44:09.459013",
     "exception": false,
     "start_time": "2025-10-13T11:44:09.448305",
     "status": "completed"
    },
    "tags": []
   },
   "outputs": [
    {
     "name": "stdout",
     "output_type": "stream",
     "text": [
      "\n",
      "Missing values per column:\n",
      "row_id                0\n",
      "body                  0\n",
      "rule                  0\n",
      "subreddit             0\n",
      "positive_example_1    0\n",
      "positive_example_2    0\n",
      "negative_example_1    0\n",
      "negative_example_2    0\n",
      "rule_violation        0\n",
      "dtype: int64\n"
     ]
    }
   ],
   "source": [
    "missing = train_df.isnull().sum()\n",
    "print(\"\\nMissing values per column:\")\n",
    "print(missing)"
   ]
  },
  {
   "cell_type": "markdown",
   "id": "27a4015d",
   "metadata": {
    "papermill": {
     "duration": 0.004022,
     "end_time": "2025-10-13T11:44:09.467610",
     "exception": false,
     "start_time": "2025-10-13T11:44:09.463588",
     "status": "completed"
    },
    "tags": []
   },
   "source": [
    "No missing or null values :D"
   ]
  },
  {
   "cell_type": "markdown",
   "id": "eea9bd53",
   "metadata": {
    "papermill": {
     "duration": 0.003909,
     "end_time": "2025-10-13T11:44:09.475508",
     "exception": false,
     "start_time": "2025-10-13T11:44:09.471599",
     "status": "completed"
    },
    "tags": []
   },
   "source": [
    "| Variable                                | Description                                                                                                                                                        |\n",
    "| --------------------------------------- | ------------------------------------------------------------------------------------------------------------------------------------------------------------------ |\n",
    "| row_id                                  | A unique identifier for each row in the dataset.                                                                                                                   |\n",
    "| body                                    | The main text content of the post or comment that needs to be evaluated.                                                                                           |\n",
    "| rule                                    | The specific community (subreddit) rule that is being checked.                                                                                                     |\n",
    "| subreddit                               | The name of the Reddit community from which the text and rule were sourced.                                                                                        |\n",
    "| positive_example_1/2                 | Examples of text that violates the specified rule.                                                                               |\n",
    "| negative_example_1/2                    | Examples of text that adhere the specified rule behavior.                                                                             |\n",
    "| rule_violation (Target)                 | The target variable. It indicates whether the text in body violates the rule (True) or not (False). |"
   ]
  },
  {
   "cell_type": "markdown",
   "id": "067e9188",
   "metadata": {
    "papermill": {
     "duration": 0.003883,
     "end_time": "2025-10-13T11:44:09.483477",
     "exception": false,
     "start_time": "2025-10-13T11:44:09.479594",
     "status": "completed"
    },
    "tags": []
   },
   "source": [
    "## 3.Data Balance and Unique Values"
   ]
  },
  {
   "cell_type": "code",
   "execution_count": 5,
   "id": "62c9978f",
   "metadata": {
    "execution": {
     "iopub.execute_input": "2025-10-13T11:44:09.492580Z",
     "iopub.status.busy": "2025-10-13T11:44:09.492172Z",
     "iopub.status.idle": "2025-10-13T11:44:09.672424Z",
     "shell.execute_reply": "2025-10-13T11:44:09.671678Z"
    },
    "papermill": {
     "duration": 0.186053,
     "end_time": "2025-10-13T11:44:09.673595",
     "exception": false,
     "start_time": "2025-10-13T11:44:09.487542",
     "status": "completed"
    },
    "tags": []
   },
   "outputs": [
    {
     "name": "stdout",
     "output_type": "stream",
     "text": [
      "Number of unique rules:      2\n",
      "Number of unique subreddits: 100\n"
     ]
    },
    {
     "data": {
      "image/png": "[encoded data removed]",
      "text/plain": [
       "<Figure size 600x400 with 1 Axes>"
      ]
     },
     "metadata": {},
     "output_type": "display_data"
    },
    {
     "name": "stdout",
     "output_type": "stream",
     "text": [
      "Overall violation rate: 0.508\n"
     ]
    }
   ],
   "source": [
    "n_rules      = train_df['rule'].nunique()\n",
    "n_subreddits = train_df['subreddit'].nunique()\n",
    "print(f\"Number of unique rules:      {n_rules}\")\n",
    "print(f\"Number of unique subreddits: {n_subreddits}\")\n",
    "\n",
    "plt.figure(figsize=(6,4))\n",
    "sns.countplot(x='rule_violation', data=train_df, palette=['#1f77b4', '#ff7f0e'])\n",
    "plt.title('Distribution of Rule Violation (0 = no, 1 = yes)')\n",
    "plt.show()\n",
    "\n",
    "rate_overall = train_df['rule_violation'].mean()\n",
    "print(f\"Overall violation rate: {rate_overall:.3f}\")"
   ]
  },
  {
   "cell_type": "code",
   "execution_count": 6,
   "id": "79d45d27",
   "metadata": {
    "execution": {
     "iopub.execute_input": "2025-10-13T11:44:09.683996Z",
     "iopub.status.busy": "2025-10-13T11:44:09.683544Z",
     "iopub.status.idle": "2025-10-13T11:44:09.687934Z",
     "shell.execute_reply": "2025-10-13T11:44:09.687386Z"
    },
    "papermill": {
     "duration": 0.01061,
     "end_time": "2025-10-13T11:44:09.688973",
     "exception": false,
     "start_time": "2025-10-13T11:44:09.678363",
     "status": "completed"
    },
    "tags": []
   },
   "outputs": [
    {
     "data": {
      "text/plain": [
       "array(['No Advertising: Spam, referral links, unsolicited advertising, and promotional content are not allowed.',\n",
       "       'No legal advice: Do not offer or request legal advice.'],\n",
       "      dtype=object)"
      ]
     },
     "metadata": {},
     "output_type": "display_data"
    }
   ],
   "source": [
    "display(train_df[\"rule\"].unique())"
   ]
  },
  {
   "cell_type": "markdown",
   "id": "1b58a6e8",
   "metadata": {
    "papermill": {
     "duration": 0.004421,
     "end_time": "2025-10-13T11:44:09.698021",
     "exception": false,
     "start_time": "2025-10-13T11:44:09.693600",
     "status": "completed"
    },
    "tags": []
   },
   "source": [
    "Data set is pretty balanced, just 2 rules to evaluate "
   ]
  },
  {
   "cell_type": "code",
   "execution_count": 7,
   "id": "d95d6cd4",
   "metadata": {
    "execution": {
     "iopub.execute_input": "2025-10-13T11:44:09.707994Z",
     "iopub.status.busy": "2025-10-13T11:44:09.707797Z",
     "iopub.status.idle": "2025-10-13T11:44:10.031137Z",
     "shell.execute_reply": "2025-10-13T11:44:10.030352Z"
    },
    "papermill": {
     "duration": 0.32975,
     "end_time": "2025-10-13T11:44:10.032430",
     "exception": false,
     "start_time": "2025-10-13T11:44:09.702680",
     "status": "completed"
    },
    "tags": []
   },
   "outputs": [
    {
     "data": {
      "image/png": "[encoded data removed]",
      "text/plain": [
       "<Figure size 800x400 with 1 Axes>"
      ]
     },
     "metadata": {},
     "output_type": "display_data"
    },
    {
     "data": {
      "image/png": "[encoded data removed]",
      "text/plain": [
       "<Figure size 800x500 with 1 Axes>"
      ]
     },
     "metadata": {},
     "output_type": "display_data"
    }
   ],
   "source": [
    "# By rule\n",
    "rule_stats = train_df.groupby('rule')['rule_violation'] \\\n",
    "    .agg(['mean', 'count']) \\\n",
    "    .rename(columns={'mean':'violation_rate','count':'num_samples'}) \\\n",
    "    .sort_values('num_samples', ascending=False)\n",
    "\n",
    "plt.figure(figsize=(8,4))\n",
    "sns.barplot(x='violation_rate', y=rule_stats.index, data=rule_stats.reset_index(), palette=['#1f77b4', '#ff7f0e'])\n",
    "plt.title('Violation Rate by Rule')\n",
    "plt.xlabel('Violation Rate')\n",
    "plt.ylabel('Rule')\n",
    "plt.show()\n",
    "\n",
    "# By subreddit (top 10)\n",
    "sub_stats = train_df.groupby('subreddit')['rule_violation'] \\\n",
    "    .agg(['mean','count']) \\\n",
    "    .rename(columns={'mean':'violation_rate','count':'num_samples'}) \\\n",
    "    .sort_values('num_samples', ascending=False).head(10)\n",
    "\n",
    "plt.figure(figsize=(8,5))\n",
    "sns.scatterplot(x='num_samples', y='violation_rate', data=sub_stats.reset_index(), s=100)\n",
    "for _, row in sub_stats.reset_index().iterrows():\n",
    "    plt.text(row['num_samples']+10, row['violation_rate'], row['subreddit'])\n",
    "plt.title('Top 10 Subreddits: Sample Count vs Violation Rate')\n",
    "plt.xlabel('Number of Samples')\n",
    "plt.ylabel('Violation Rate')\n",
    "plt.show()"
   ]
  },
  {
   "cell_type": "code",
   "execution_count": 8,
   "id": "a64bd766",
   "metadata": {
    "execution": {
     "iopub.execute_input": "2025-10-13T11:44:10.046044Z",
     "iopub.status.busy": "2025-10-13T11:44:10.045803Z",
     "iopub.status.idle": "2025-10-13T11:44:10.434923Z",
     "shell.execute_reply": "2025-10-13T11:44:10.434116Z"
    },
    "papermill": {
     "duration": 0.396917,
     "end_time": "2025-10-13T11:44:10.436129",
     "exception": false,
     "start_time": "2025-10-13T11:44:10.039212",
     "status": "completed"
    },
    "tags": []
   },
   "outputs": [
    {
     "data": {
      "image/png": "[encoded data removed]",
      "text/plain": [
       "<Figure size 1200x400 with 2 Axes>"
      ]
     },
     "metadata": {},
     "output_type": "display_data"
    }
   ],
   "source": [
    "train_df['char_len'] = train_df['body'].str.len()\n",
    "train_df['word_len'] = train_df['body'].str.split().map(len)\n",
    "\n",
    "fig, axes = plt.subplots(1, 2, figsize=(12,4))\n",
    "axes[0].hist(train_df['char_len'], bins=50)\n",
    "axes[0].set_title('Character Length Distribution')\n",
    "axes[0].set_xlabel('Number of Characters')\n",
    "\n",
    "axes[1].hist(train_df['word_len'], bins=50)\n",
    "axes[1].set_title('Word Count Distribution')\n",
    "axes[1].set_xlabel('Number of Words')\n",
    "\n",
    "plt.tight_layout()\n",
    "plt.show()"
   ]
  },
  {
   "cell_type": "code",
   "execution_count": 9,
   "id": "980ea6f0",
   "metadata": {
    "execution": {
     "iopub.execute_input": "2025-10-13T11:44:10.450251Z",
     "iopub.status.busy": "2025-10-13T11:44:10.449906Z",
     "iopub.status.idle": "2025-10-13T11:44:10.708934Z",
     "shell.execute_reply": "2025-10-13T11:44:10.707993Z"
    },
    "papermill": {
     "duration": 0.267315,
     "end_time": "2025-10-13T11:44:10.710334",
     "exception": false,
     "start_time": "2025-10-13T11:44:10.443019",
     "status": "completed"
    },
    "tags": []
   },
   "outputs": [
    {
     "name": "stdout",
     "output_type": "stream",
     "text": [
      "Top 20 Unigrams (No Violation): ['com' 'http' 'www' 'stream' 'https' 'hd' 'html' 'watch' 'live' 'mobile'\n",
      " 'sd' 'english' 'vs' 'just' 'like' 'tv' 'yes' 'free' 'check' 'don']\n",
      "Top 20 Unigrams (Violation): ['com' 'http' 'www' 'just' 'don' 'https' 'free' 'legal' 'like' 'sex'\n",
      " 'want' 'law' 'know' 'people' 'illegal' 'police' 'need' 'money' 'll'\n",
      " 'right']\n",
      "Top 20 Bigrams (No Violation): ['http www' 'stream http' 'https www' 'youtube com' 'english stream'\n",
      " 'www youtube' 'hd stream' 'com watch' 'sd stream' 'twitch tv'\n",
      " 'html mobile' 'live stream' 'mobile yes' 'check instagram'\n",
      " 'page dailyetymology' 'instagram page' 'mobile compatible' 'https youtu'\n",
      " 'interesting check' 'oh interesting']\n",
      "Top 20 Bigrams (Violation): ['http www' 'https www' 'com free' 'glitch fast' 'freekarma com'\n",
      " 'free reddit' 'karma glitch' 'reddit karma' 'www freekarma'\n",
      " 'fast patched' 'girls sex' 'girl sex' 'findsextoday com' 'free girls'\n",
      " 'sex worldwide' 'mysexfind com' 'com girl' 'child support'\n",
      " 'http mysexfind' 'don want']\n"
     ]
    }
   ],
   "source": [
    "import re\n",
    "from sklearn.feature_extraction.text import CountVectorizer\n",
    "\n",
    "# Vectorizers\n",
    "vectorizer_uni = CountVectorizer(ngram_range=(1,1), stop_words='english', min_df=5)\n",
    "vectorizer_bi  = CountVectorizer(ngram_range=(2,2), stop_words='english', min_df=5)\n",
    "\n",
    "# Fit on all comments\n",
    "grams_uni = vectorizer_uni.fit_transform(train_df['body'].fillna(\"\"))\n",
    "grams_bi  = vectorizer_bi.fit_transform(train_df['body'].fillna(\"\"))\n",
    "\n",
    "# Feature names\n",
    "feat_uni = np.array(vectorizer_uni.get_feature_names_out())\n",
    "feat_bi  = np.array(vectorizer_bi.get_feature_names_out())\n",
    "\n",
    "# Function to get top n-grams for a class\n",
    "def get_top_ngrams(matrix, labels, feat_names, cls, top_n=20):\n",
    "    # Select rows for the class\n",
    "    idx = np.where(labels == cls)[0]\n",
    "    # Sum term frequencies\n",
    "    class_sum = np.asarray(matrix[idx].sum(axis=0)).ravel()\n",
    "    # Get top indices\n",
    "    top_idx = class_sum.argsort()[::-1][:top_n]\n",
    "    return feat_names[top_idx]\n",
    "\n",
    "# Compute top n-grams for each class\n",
    "labels = train_df['rule_violation'].values\n",
    "top_uni_non = get_top_ngrams(grams_uni, labels, feat_uni, cls=0)\n",
    "top_uni_vio = get_top_ngrams(grams_uni, labels, feat_uni, cls=1)\n",
    "top_bi_non  = get_top_ngrams(grams_bi, labels, feat_bi, cls=0)\n",
    "top_bi_vio  = get_top_ngrams(grams_bi, labels, feat_bi, cls=1)\n",
    "\n",
    "print(\"Top 20 Unigrams (No Violation):\", top_uni_non)\n",
    "print(\"Top 20 Unigrams (Violation):\",   top_uni_vio)\n",
    "print(\"Top 20 Bigrams (No Violation):\",  top_bi_non)\n",
    "print(\"Top 20 Bigrams (Violation):\",    top_bi_vio)"
   ]
  },
  {
   "cell_type": "markdown",
   "id": "5d4b877c",
   "metadata": {
    "papermill": {
     "duration": 0.006609,
     "end_time": "2025-10-13T11:44:10.724009",
     "exception": false,
     "start_time": "2025-10-13T11:44:10.717400",
     "status": "completed"
    },
    "tags": []
   },
   "source": [
    "## 4. Redução de Dimensionalidade e Análise de Violações\n",
    "\n",
    "Vamos aplicar técnicas de redução de dimensionalidade para visualizar e entender melhor os padrões nos textos que violam as regras."
   ]
  },
  {
   "cell_type": "code",
   "execution_count": 10,
   "id": "cd4732da",
   "metadata": {
    "execution": {
     "iopub.execute_input": "2025-10-13T11:44:10.738504Z",
     "iopub.status.busy": "2025-10-13T11:44:10.737864Z",
     "iopub.status.idle": "2025-10-13T11:44:12.039699Z",
     "shell.execute_reply": "2025-10-13T11:44:12.038577Z"
    },
    "papermill": {
     "duration": 1.31036,
     "end_time": "2025-10-13T11:44:12.041003",
     "exception": false,
     "start_time": "2025-10-13T11:44:10.730643",
     "status": "completed"
    },
    "tags": []
   },
   "outputs": [
    {
     "name": "stdout",
     "output_type": "stream",
     "text": [
      "=== Preparando dados para redução de dimensionalidade ===\n",
      "Shape da matriz TF-IDF: (2029, 5000)\n",
      "Número de features: 5000\n"
     ]
    }
   ],
   "source": [
    "from sklearn.feature_extraction.text import TfidfVectorizer\n",
    "from sklearn.decomposition import PCA\n",
    "from sklearn.manifold import TSNE\n",
    "import plotly.express as px\n",
    "import plotly.graph_objects as go\n",
    "from plotly.subplots import make_subplots\n",
    "\n",
    "# 4.1 Vectorização TF-IDF\n",
    "print(\"=== Preparando dados para redução de dimensionalidade ===\")\n",
    "\n",
    "# Criando vectorizador TF-IDF\n",
    "# TfidfVectorizer transforma textos em vetores numéricos baseados na frequência das palavras, ponderando por sua importância no corpus.\n",
    "# Parâmetros:\n",
    "# - max_features=5000: usa apenas as 5000 palavras/termos mais frequentes.\n",
    "# - stop_words='english': remove palavras comuns do inglês (como \"the\", \"and\").\n",
    "# - ngram_range=(1, 2): considera unigramas (palavras isoladas) e bigramas (pares de palavras).\n",
    "# - min_df=2: ignora termos que aparecem em apenas 1 documento.\n",
    "# - max_df=0.95: ignora termos que aparecem em mais de 95% dos documentos (muito comuns).\n",
    "# O TF-IDF (Term Frequency-Inverse Document Frequency) calcula um peso para cada termo, sendo maior para termos frequentes em um documento, mas raros no corpus.\n",
    "\n",
    "tfidf = TfidfVectorizer(\n",
    "    max_features=5000,  # Top 5000 features\n",
    "    stop_words='english',\n",
    "    ngram_range=(1, 2),  # Unigrams e bigrams\n",
    "    min_df=2,  # Aparecer em pelo menos 2 documentos\n",
    "    max_df=0.95  # Não aparecer em mais de 95% dos documentos\n",
    ")\n",
    "\n",
    "# Transformando textos em vetores TF-IDF\n",
    "X_tfidf = tfidf.fit_transform(train_df['body'].fillna(\"\"))\n",
    "feature_names = tfidf.get_feature_names_out()\n",
    "\n",
    "print(f\"Shape da matriz TF-IDF: {X_tfidf.shape}\")\n",
    "print(f\"Número de features: {len(feature_names)}\")\n",
    "\n",
    "# Labels para os plots\n",
    "y_labels = train_df['rule_violation'].values\n",
    "colors = ['No Violation' if label == 0 else 'Violation' for label in y_labels]"
   ]
  },
  {
   "cell_type": "code",
   "execution_count": 11,
   "id": "dd80e7cc",
   "metadata": {
    "execution": {
     "iopub.execute_input": "2025-10-13T11:44:12.057549Z",
     "iopub.status.busy": "2025-10-13T11:44:12.057275Z",
     "iopub.status.idle": "2025-10-13T11:44:12.580664Z",
     "shell.execute_reply": "2025-10-13T11:44:12.579970Z"
    },
    "papermill": {
     "duration": 0.532064,
     "end_time": "2025-10-13T11:44:12.582116",
     "exception": false,
     "start_time": "2025-10-13T11:44:12.050052",
     "status": "completed"
    },
    "tags": []
   },
   "outputs": [
    {
     "name": "stdout",
     "output_type": "stream",
     "text": [
      "=== Analisando Features Mais Discriminativas ===\n",
      "\n",
      "=== TOP 20 FEATURES MAIS ASSOCIADAS A VIOLAÇÕES ===\n",
      "legal: 0.0118\n",
      "police: 0.0095\n",
      "lawyer: 0.0090\n",
      "sue: 0.0087\n",
      "law: 0.0087\n",
      "free: 0.0082\n",
      "sex: 0.0078\n",
      "legally: 0.0078\n",
      "don: 0.0073\n",
      "illegal: 0.0073\n",
      "com free: 0.0071\n",
      "girl: 0.0071\n",
      "code: 0.0058\n",
      "ll: 0.0058\n",
      "property: 0.0055\n",
      "state: 0.0053\n",
      "girls sex: 0.0051\n",
      "court: 0.0051\n",
      "free girls: 0.0050\n",
      "sex worldwide: 0.0050\n",
      "\n",
      "=== TOP 20 FEATURES MAIS ASSOCIADAS A NÃO VIOLAÇÕES ===\n",
      "stream: 0.0214\n",
      "watch: 0.0171\n",
      "www: 0.0161\n",
      "http www: 0.0154\n",
      "hd: 0.0154\n",
      "https: 0.0140\n",
      "html: 0.0137\n",
      "sd: 0.0112\n",
      "youtube: 0.0112\n",
      "stream http: 0.0108\n",
      "english: 0.0108\n",
      "mobile: 0.0106\n",
      "com: 0.0100\n",
      "vs: 0.0100\n",
      "youtube com: 0.0098\n",
      "http: 0.0096\n",
      "live: 0.0095\n",
      "www youtube: 0.0090\n",
      "https www: 0.0086\n",
      "com watch: 0.0084\n"
     ]
    },
    {
     "data": {
      "image/png": "[encoded data removed]",
      "text/plain": [
       "<Figure size 1600x800 with 2 Axes>"
      ]
     },
     "metadata": {},
     "output_type": "display_data"
    }
   ],
   "source": [
    "# 4.4 Análise das Features Mais Importantes\n",
    "print(\"=== Analisando Features Mais Discriminativas ===\")\n",
    "\n",
    "# Calculando diferença média TF-IDF entre classes\n",
    "X_tfidf_dense = X_tfidf.toarray()\n",
    "mean_violation = X_tfidf_dense[y_labels == 1].mean(axis=0)\n",
    "mean_no_violation = X_tfidf_dense[y_labels == 0].mean(axis=0)\n",
    "\n",
    "# Diferença entre médias (positivo = mais comum em violações)\n",
    "feature_diff = mean_violation - mean_no_violation\n",
    "\n",
    "# Top features para violações\n",
    "top_violation_indices = feature_diff.argsort()[-20:][::-1]\n",
    "top_violation_features = [(feature_names[i], feature_diff[i]) for i in top_violation_indices]\n",
    "\n",
    "# Top features para não violações\n",
    "top_no_violation_indices = feature_diff.argsort()[:20]\n",
    "top_no_violation_features = [(feature_names[i], abs(feature_diff[i])) for i in top_no_violation_indices]\n",
    "\n",
    "print(\"\\n=== TOP 20 FEATURES MAIS ASSOCIADAS A VIOLAÇÕES ===\")\n",
    "for feature, score in top_violation_features:\n",
    "    print(f\"{feature}: {score:.4f}\")\n",
    "\n",
    "print(\"\\n=== TOP 20 FEATURES MAIS ASSOCIADAS A NÃO VIOLAÇÕES ===\") \n",
    "for feature, score in top_no_violation_features:\n",
    "    print(f\"{feature}: {score:.4f}\")\n",
    "\n",
    "# Visualização das top features\n",
    "fig, (ax1, ax2) = plt.subplots(1, 2, figsize=(16, 8))\n",
    "\n",
    "# Features de violação\n",
    "violation_features = [f[0] for f in top_violation_features[:15]]\n",
    "violation_scores = [f[1] for f in top_violation_features[:15]]\n",
    "\n",
    "ax1.barh(range(len(violation_features)), violation_scores, color='#ff7f0e')\n",
    "ax1.set_yticks(range(len(violation_features)))\n",
    "ax1.set_yticklabels(violation_features)\n",
    "ax1.set_title('Top 15 Features - Violações de Regra')\n",
    "ax1.set_xlabel('Diferença TF-IDF Média')\n",
    "\n",
    "# Features de não violação  \n",
    "no_violation_features = [f[0] for f in top_no_violation_features[:15]]\n",
    "no_violation_scores = [f[1] for f in top_no_violation_features[:15]]\n",
    "\n",
    "ax2.barh(range(len(no_violation_features)), no_violation_scores, color='#1f77b4')\n",
    "ax2.set_yticks(range(len(no_violation_features)))\n",
    "ax2.set_yticklabels(no_violation_features)\n",
    "ax2.set_title('Top 15 Features - Sem Violação')\n",
    "ax2.set_xlabel('Diferença TF-IDF Média (abs)')\n",
    "\n",
    "plt.tight_layout()\n",
    "plt.show()"
   ]
  },
  {
   "cell_type": "markdown",
   "id": "bb270302",
   "metadata": {
    "papermill": {
     "duration": 0.007445,
     "end_time": "2025-10-13T11:44:12.597895",
     "exception": false,
     "start_time": "2025-10-13T11:44:12.590450",
     "status": "completed"
    },
    "tags": []
   },
   "source": [
    "## Vamos utilizar busca nos embedings do Qwen3 0.6 para classificar nossos textos"
   ]
  },
  {
   "cell_type": "code",
   "execution_count": 12,
   "id": "cac9355e",
   "metadata": {
    "execution": {
     "iopub.execute_input": "2025-10-13T11:44:12.614298Z",
     "iopub.status.busy": "2025-10-13T11:44:12.613819Z",
     "iopub.status.idle": "2025-10-13T11:44:24.561650Z",
     "shell.execute_reply": "2025-10-13T11:44:24.561005Z"
    },
    "papermill": {
     "duration": 11.957407,
     "end_time": "2025-10-13T11:44:24.563056",
     "exception": false,
     "start_time": "2025-10-13T11:44:12.605649",
     "status": "completed"
    },
    "tags": []
   },
   "outputs": [],
   "source": [
    "from transformers import AutoTokenizer, AutoModel\n",
    "import torch\n",
    "\n",
    "class QwenEmbedder:\n",
    "    def __init__(self, model_path, device=None):\n",
    "        self.device = device or (\"cuda\" if torch.cuda.is_available() else \"cpu\")\n",
    "        self.tokenizer = AutoTokenizer.from_pretrained(model_path)\n",
    "        self.model = AutoModel.from_pretrained(model_path, trust_remote_code=True).to(self.device)\n",
    "        self.model.eval()\n",
    "\n",
    "    def encode(self, texts, batch_size=32, normalize_embeddings=True):\n",
    "        all_embs = []\n",
    "        for i in range(0, len(texts), batch_size):\n",
    "            batch = texts[i:i+batch_size]\n",
    "            enc = self.tokenizer(batch, padding=True, truncation=True, return_tensors=\"pt\", max_length=512).to(self.device)\n",
    "            with torch.no_grad():\n",
    "                out = self.model(**enc)\n",
    "                embs = out.last_hidden_state.mean(dim=1)\n",
    "                if normalize_embeddings:\n",
    "                    embs = torch.nn.functional.normalize(embs, p=2, dim=1)\n",
    "                all_embs.append(embs.cpu())\n",
    "        return torch.cat(all_embs).numpy()\n"
   ]
  },
  {
   "cell_type": "code",
   "execution_count": 13,
   "id": "c388dbd6",
   "metadata": {
    "execution": {
     "iopub.execute_input": "2025-10-13T11:44:24.581080Z",
     "iopub.status.busy": "2025-10-13T11:44:24.580642Z",
     "iopub.status.idle": "2025-10-13T11:45:43.865180Z",
     "shell.execute_reply": "2025-10-13T11:45:43.864233Z"
    },
    "papermill": {
     "duration": 79.295499,
     "end_time": "2025-10-13T11:45:43.866820",
     "exception": false,
     "start_time": "2025-10-13T11:44:24.571321",
     "status": "completed"
    },
    "tags": []
   },
   "outputs": [
    {
     "name": "stderr",
     "output_type": "stream",
     "text": [
      "2025-10-13 11:44:27.460032: E external/local_xla/xla/stream_executor/cuda/cuda_fft.cc:477] Unable to register cuFFT factory: Attempting to register factory for plugin cuFFT when one has already been registered\n",
      "WARNING: All log messages before absl::InitializeLog() is called are written to STDERR\n",
      "E0000 00:00:1760355867.656773      19 cuda_dnn.cc:8310] Unable to register cuDNN factory: Attempting to register factory for plugin cuDNN when one has already been registered\n",
      "E0000 00:00:1760355867.712997      19 cuda_blas.cc:1418] Unable to register cuBLAS factory: Attempting to register factory for plugin cuBLAS when one has already been registered\n"
     ]
    },
    {
     "name": "stdout",
     "output_type": "stream",
     "text": [
      "🔹 Carregando modelo de embeddings Qwen...\n"
     ]
    },
    {
     "name": "stderr",
     "output_type": "stream",
     "text": [
      "/usr/local/lib/python3.11/dist-packages/pydantic/_internal/_generate_schema.py:2225: UnsupportedFieldAttributeWarning: The 'repr' attribute with value False was provided to the `Field()` function, which has no effect in the context it was used. 'repr' is field-specific metadata, and can only be attached to a model field using `Annotated` metadata or by assignment. This may have happened because an `Annotated` type alias using the `type` statement was used, or if the `Field()` function was attached to a single member of a union type.\n",
      "  warnings.warn(\n",
      "/usr/local/lib/python3.11/dist-packages/pydantic/_internal/_generate_schema.py:2225: UnsupportedFieldAttributeWarning: The 'frozen' attribute with value True was provided to the `Field()` function, which has no effect in the context it was used. 'frozen' is field-specific metadata, and can only be attached to a model field using `Annotated` metadata or by assignment. This may have happened because an `Annotated` type alias using the `type` statement was used, or if the `Field()` function was attached to a single member of a union type.\n",
      "  warnings.warn(\n"
     ]
    },
    {
     "name": "stdout",
     "output_type": "stream",
     "text": [
      "🔹 Avaliação local (split do train)...\n",
      "Corpus (train): 1623 exemplos\n",
      "Validação (test): 406 exemplos\n",
      "📈 Corpus expandido com 1691 exemplos únicos.\n",
      "🔹 Calculando similaridades (validação)...\n"
     ]
    },
    {
     "data": {
      "application/vnd.jupyter.widget-view+json": {
       "model_id": "e262cf5a71874cff801efd4450c7db23",
       "version_major": 2,
       "version_minor": 0
      },
      "text/plain": [
       "Processando regras:   0%|          | 0/2 [00:00<?, ?it/s]"
      ]
     },
     "metadata": {},
     "output_type": "display_data"
    },
    {
     "name": "stdout",
     "output_type": "stream",
     "text": [
      "✅ AUC (validação): 0.8467\n",
      "✅ Acurácia (validação): 0.741\n",
      "\n",
      "🔹 Gerando submissão (usando test.csv completo)...\n"
     ]
    },
    {
     "data": {
      "application/vnd.jupyter.widget-view+json": {
       "model_id": "3de784ecac9c4787b90a559e51efb9df",
       "version_major": 2,
       "version_minor": 0
      },
      "text/plain": [
       "Processando regras:   0%|          | 0/2 [00:00<?, ?it/s]"
      ]
     },
     "metadata": {},
     "output_type": "display_data"
    },
    {
     "name": "stdout",
     "output_type": "stream",
     "text": [
      "📁 Arquivo de submissão salvo em: /kaggle/working/submission.csv\n"
     ]
    }
   ],
   "source": [
    "import pandas as pd\n",
    "import numpy as np\n",
    "from sklearn.metrics import accuracy_score, roc_auc_score\n",
    "from sklearn.model_selection import train_test_split\n",
    "from sklearn.metrics.pairwise import cosine_similarity\n",
    "from tqdm.auto import tqdm\n",
    "from sentence_transformers import SentenceTransformer\n",
    "import re, os\n",
    "\n",
    "\n",
    "def clean_text(txt: str) -> str:\n",
    "    if not isinstance(txt, str):\n",
    "        return \"\"\n",
    "    txt = txt.lower()\n",
    "    txt = re.sub(r\"http\\S+|www\\S+\", \" \", txt)\n",
    "    txt = re.sub(r\"\\S*@\\S*\", \" \", txt)\n",
    "    txt = re.sub(r\"\\+?\\d[\\d -]{8,}\\d\", \" \", txt)\n",
    "    txt = re.sub(r\"[^a-z\\s]\", \" \", txt)\n",
    "    txt = re.sub(r\"\\s+\", \" \", txt).strip()\n",
    "    return txt\n",
    "\n",
    "\n",
    "def load_train_split(data_path=\"./\", test_size=0.2, seed=42):\n",
    "    df = pd.read_csv(f\"{data_path}/train.csv\")\n",
    "\n",
    "    df[\"text\"] = df[\"body\"].apply(clean_text)\n",
    "    df[\"label\"] = df[\"rule_violation\"].map({1: 1, 0: -1})\n",
    "\n",
    "    train_df, val_df = train_test_split(\n",
    "        df, test_size=test_size, random_state=seed, stratify=df[\"rule_violation\"]\n",
    "    )\n",
    "\n",
    "    print(f\"Corpus (train): {len(train_df)} exemplos\")\n",
    "    print(f\"Validação (test): {len(val_df)} exemplos\")\n",
    "    return train_df.reset_index(drop=True), val_df.reset_index(drop=True)\n",
    "\n",
    "\n",
    "\n",
    "def augment_with_examples(train_df, test_path=\"./\"):\n",
    "    \"\"\"\n",
    "    Cria um corpus semântico expandido a partir do train.csv e test.csv,\n",
    "    combinando comentários reais e exemplos positivos/negativos de ambos.\n",
    "    \"\"\"\n",
    "    test_df = pd.read_csv(f\"{test_path}/test.csv\")\n",
    "\n",
    "    def extract_examples(df, col, label):\n",
    "        if col not in df.columns:\n",
    "            return pd.DataFrame()\n",
    "        subset = df[[col, \"rule\", \"subreddit\"]].copy()\n",
    "        subset = subset.rename(columns={col: \"body\"})\n",
    "        subset[\"rule_violation\"] = label\n",
    "        subset[\"text\"] = subset[\"body\"].apply(clean_text)\n",
    "        subset[\"label\"] = 1 if label == 1 else -1\n",
    "        return subset\n",
    "\n",
    "    # 🔹 Extrai exemplos do train\n",
    "    pos_train = pd.concat([\n",
    "        extract_examples(train_df, \"positive_example_1\", 1),\n",
    "        extract_examples(train_df, \"positive_example_2\", 1)\n",
    "    ])\n",
    "    neg_train = pd.concat([\n",
    "        extract_examples(train_df, \"negative_example_1\", 0),\n",
    "        extract_examples(train_df, \"negative_example_2\", 0)\n",
    "    ])\n",
    "\n",
    "    # 🔹 Extrai exemplos do test\n",
    "    pos_test = pd.concat([\n",
    "        extract_examples(test_df, \"positive_example_1\", 1),\n",
    "        extract_examples(test_df, \"positive_example_2\", 1)\n",
    "    ])\n",
    "    neg_test = pd.concat([\n",
    "        extract_examples(test_df, \"negative_example_1\", 0),\n",
    "        extract_examples(test_df, \"negative_example_2\", 0)\n",
    "    ])\n",
    "\n",
    "    # 🔹 Junta todos\n",
    "    augmented = pd.concat([\n",
    "        train_df[[\"body\", \"rule\", \"subreddit\", \"rule_violation\"]].assign(\n",
    "            text=train_df[\"text\"], label=train_df[\"rule_violation\"].map({1: 1, 0: -1})\n",
    "        ),\n",
    "        pos_train, neg_train, pos_test, neg_test\n",
    "    ])\n",
    "\n",
    "    augmented = augmented.drop_duplicates(subset=[\"body\"]).reset_index(drop=True)\n",
    "    print(f\"📈 Corpus expandido com {len(augmented)} exemplos únicos.\")\n",
    "    return augmented\n",
    "\n",
    "\n",
    "def compute_rule_specific_scores(test_df, corpus_df, embedder, top_k=100):\n",
    "    results = []\n",
    "\n",
    "    for rule, test_subset in tqdm(test_df.groupby(\"rule\"), desc=\"Processando regras\"):\n",
    "        corpus_subset = corpus_df[corpus_df[\"rule\"] == rule]\n",
    "        if len(corpus_subset) < 5:\n",
    "            corpus_subset = corpus_df  # fallback\n",
    "\n",
    "        corpus_texts = corpus_subset[\"text\"].tolist()\n",
    "        test_texts = test_subset[\"text\"].tolist()\n",
    "\n",
    "        emb_corpus = embedder.encode(corpus_texts, batch_size=64, normalize_embeddings=True)\n",
    "        emb_test = embedder.encode(test_texts, batch_size=64, normalize_embeddings=True)\n",
    "\n",
    "        similarities = cosine_similarity(emb_test, emb_corpus)\n",
    "        sorted_idx = np.argsort(-similarities, axis=1)[:, :top_k]\n",
    "        labels = corpus_subset[\"label\"].to_numpy()\n",
    "\n",
    "        scores = []\n",
    "        for i in range(similarities.shape[0]):\n",
    "            sims = similarities[i, sorted_idx[i]]\n",
    "            lbls = labels[sorted_idx[i]]\n",
    "            score = np.sum(sims * lbls) / (np.sum(sims) + 1e-8)\n",
    "            scores.append(score)\n",
    "\n",
    "        subset_result = test_subset.copy()\n",
    "        subset_result[\"score_raw\"] = scores\n",
    "        results.append(subset_result)\n",
    "\n",
    "    df_result = pd.concat(results, axis=0).reset_index(drop=True)\n",
    "    # Normaliza scores para [0,1]\n",
    "    df_result[\"score\"] = (df_result[\"score_raw\"] - df_result[\"score_raw\"].min()) / (\n",
    "        df_result[\"score_raw\"].max() - df_result[\"score_raw\"].min() + 1e-8\n",
    "    )\n",
    "    return df_result\n",
    "\n",
    "\n",
    "\n",
    "def main(data_path=\"/kaggle/input/jigsaw-agile-community-rules\"):\n",
    "    # Carregar modelo Qwen Embeddings\n",
    "    print(\"🔹 Carregando modelo de embeddings Qwen...\")\n",
    "    embedder = QwenEmbedder(\"/kaggle/input/qwen-3-embedding/transformers/0.6b/1\")\n",
    "\n",
    "    # Avaliação local\n",
    "    print(\"🔹 Avaliação local (split do train)...\")\n",
    "    corpus_df, val_df = load_train_split(data_path)\n",
    "    corpus_df = augment_with_examples(corpus_df, data_path)\n",
    "\n",
    "    print(\"🔹 Calculando similaridades (validação)...\")\n",
    "    val_pred = compute_rule_specific_scores(val_df, corpus_df, embedder, top_k=100)\n",
    "\n",
    "    y_true = val_pred[\"rule_violation\"].to_numpy()\n",
    "    y_score = val_pred[\"score\"].to_numpy()\n",
    "    auc = roc_auc_score(y_true, y_score)\n",
    "    acc = accuracy_score(y_true, (y_score > 0.5).astype(int))\n",
    "    print(f\"✅ AUC (validação): {auc:.4f}\")\n",
    "    print(f\"✅ Acurácia (validação): {acc:.3f}\\n\")\n",
    "\n",
    "    # Submissão oficial\n",
    "    print(\"🔹 Gerando submissão (usando test.csv completo)...\")\n",
    "    test_df = pd.read_csv(f\"{data_path}/test.csv\")\n",
    "    test_df[\"text\"] = test_df[\"body\"].apply(clean_text)\n",
    "\n",
    "    pred_df = compute_rule_specific_scores(test_df, corpus_df, embedder, top_k=100)\n",
    "\n",
    "    output_path = \"/kaggle/working/submission.csv\"\n",
    "    pred_df[[\"row_id\", \"score\"]].rename(\n",
    "        columns={\"score\": \"rule_violation\"}\n",
    "    ).to_csv(output_path, index=False)\n",
    "\n",
    "    print(f\"📁 Arquivo de submissão salvo em: {output_path}\")\n",
    "\n",
    "\n",
    "\n",
    "if __name__ == \"__main__\":\n",
    "    import torch\n",
    "    main(\"/kaggle/input/jigsaw-agile-community-rules\")\n"
   ]
  },
  {
   "cell_type": "code",
   "execution_count": 14,
   "id": "3e29f455",
   "metadata": {
    "execution": {
     "iopub.execute_input": "2025-10-13T11:45:43.884915Z",
     "iopub.status.busy": "2025-10-13T11:45:43.884696Z",
     "iopub.status.idle": "2025-10-13T11:45:43.893382Z",
     "shell.execute_reply": "2025-10-13T11:45:43.892699Z"
    },
    "papermill": {
     "duration": 0.019043,
     "end_time": "2025-10-13T11:45:43.894443",
     "exception": false,
     "start_time": "2025-10-13T11:45:43.875400",
     "status": "completed"
    },
    "tags": []
   },
   "outputs": [
    {
     "data": {
      "text/html": [
       "<div>\n",
       "<style scoped>\n",
       "    .dataframe tbody tr th:only-of-type {\n",
       "        vertical-align: middle;\n",
       "    }\n",
       "\n",
       "    .dataframe tbody tr th {\n",
       "        vertical-align: top;\n",
       "    }\n",
       "\n",
       "    .dataframe thead th {\n",
       "        text-align: right;\n",
       "    }\n",
       "</style>\n",
       "<table border=\"1\" class=\"dataframe\">\n",
       "  <thead>\n",
       "    <tr style=\"text-align: right;\">\n",
       "      <th></th>\n",
       "      <th>row_id</th>\n",
       "      <th>rule_violation</th>\n",
       "    </tr>\n",
       "  </thead>\n",
       "  <tbody>\n",
       "    <tr>\n",
       "      <th>0</th>\n",
       "      <td>2029</td>\n",
       "      <td>0.444574</td>\n",
       "    </tr>\n",
       "    <tr>\n",
       "      <th>1</th>\n",
       "      <td>2031</td>\n",
       "      <td>0.770029</td>\n",
       "    </tr>\n",
       "    <tr>\n",
       "      <th>2</th>\n",
       "      <td>2032</td>\n",
       "      <td>0.209667</td>\n",
       "    </tr>\n",
       "    <tr>\n",
       "      <th>3</th>\n",
       "      <td>2033</td>\n",
       "      <td>1.000000</td>\n",
       "    </tr>\n",
       "    <tr>\n",
       "      <th>4</th>\n",
       "      <td>2034</td>\n",
       "      <td>0.146766</td>\n",
       "    </tr>\n",
       "    <tr>\n",
       "      <th>5</th>\n",
       "      <td>2035</td>\n",
       "      <td>0.741245</td>\n",
       "    </tr>\n",
       "    <tr>\n",
       "      <th>6</th>\n",
       "      <td>2036</td>\n",
       "      <td>0.221764</td>\n",
       "    </tr>\n",
       "    <tr>\n",
       "      <th>7</th>\n",
       "      <td>2037</td>\n",
       "      <td>0.000000</td>\n",
       "    </tr>\n",
       "    <tr>\n",
       "      <th>8</th>\n",
       "      <td>2038</td>\n",
       "      <td>0.820212</td>\n",
       "    </tr>\n",
       "    <tr>\n",
       "      <th>9</th>\n",
       "      <td>2030</td>\n",
       "      <td>0.498026</td>\n",
       "    </tr>\n",
       "  </tbody>\n",
       "</table>\n",
       "</div>"
      ],
      "text/plain": [
       "   row_id  rule_violation\n",
       "0    2029        0.444574\n",
       "1    2031        0.770029\n",
       "2    2032        0.209667\n",
       "3    2033        1.000000\n",
       "4    2034        0.146766\n",
       "5    2035        0.741245\n",
       "6    2036        0.221764\n",
       "7    2037        0.000000\n",
       "8    2038        0.820212\n",
       "9    2030        0.498026"
      ]
     },
     "execution_count": 14,
     "metadata": {},
     "output_type": "execute_result"
    }
   ],
   "source": [
    "pd.read_csv(\"submission.csv\")\n"
   ]
  },
  {
   "cell_type": "code",
   "execution_count": 15,
   "id": "4094499a",
   "metadata": {
    "execution": {
     "iopub.execute_input": "2025-10-13T11:45:43.912032Z",
     "iopub.status.busy": "2025-10-13T11:45:43.911837Z",
     "iopub.status.idle": "2025-10-13T11:45:44.321659Z",
     "shell.execute_reply": "2025-10-13T11:45:44.320862Z"
    },
    "papermill": {
     "duration": 0.420097,
     "end_time": "2025-10-13T11:45:44.323006",
     "exception": false,
     "start_time": "2025-10-13T11:45:43.902909",
     "status": "completed"
    },
    "tags": []
   },
   "outputs": [
    {
     "name": "stdout",
     "output_type": "stream",
     "text": [
      "-rw-r--r-- 1 root root 251 Oct 13 11:45 /kaggle/working/submission.csv\r\n"
     ]
    },
    {
     "name": "stderr",
     "output_type": "stream",
     "text": [
      "huggingface/tokenizers: The current process just got forked, after parallelism has already been used. Disabling parallelism to avoid deadlocks...\n",
      "To disable this warning, you can either:\n",
      "\t- Avoid using `tokenizers` before the fork if possible\n",
      "\t- Explicitly set the environment variable TOKENIZERS_PARALLELISM=(true | false)\n",
      "huggingface/tokenizers: The current process just got forked, after parallelism has already been used. Disabling parallelism to avoid deadlocks...\n",
      "To disable this warning, you can either:\n",
      "\t- Avoid using `tokenizers` before the fork if possible\n",
      "\t- Explicitly set the environment variable TOKENIZERS_PARALLELISM=(true | false)\n"
     ]
    },
    {
     "name": "stdout",
     "output_type": "stream",
     "text": [
      "row_id,rule_violation\r\n",
      "2029,0.44457397881324223\r\n",
      "2031,0.7700286629657592\r\n",
      "2032,0.20966742235654234\r\n",
      "2033,0.9999999919211321\r\n",
      "2034,0.14676565817144663\r\n",
      "2035,0.7412453192720497\r\n",
      "2036,0.22176361930779037\r\n",
      "2037,0.0\r\n",
      "2038,0.8202124283400046\r\n"
     ]
    }
   ],
   "source": [
    "!ls -lh /kaggle/working/submission.csv\n",
    "!head /kaggle/working/submission.csv\n"
   ]
  }
 ],
 "metadata": {
  "kaggle": {
   "accelerator": "gpu",
   "dataSources": [
    {
     "databundleVersionId": 13121456,
     "isSourceIdPinned": false,
     "sourceId": 94635,
     "sourceType": "competition"
    },
    {
     "isSourceIdPinned": false,
     "modelId": 368803,
     "modelInstanceId": 347541,
     "sourceId": 426330,
     "sourceType": "modelInstanceVersion"
    }
   ],
   "dockerImageVersionId": 31153,
   "isGpuEnabled": true,
   "isInternetEnabled": false,
   "language": "python",
   "sourceType": "notebook"
  },
  "kernelspec": {
   "display_name": "Python 3",
   "language": "python",
   "name": "python3"
  },
  "language_info": {
   "codemirror_mode": {
    "name": "ipython",
    "version": 3
   },
   "file_extension": ".py",
   "mimetype": "text/x-python",
   "name": "python",
   "nbconvert_exporter": "python",
   "pygments_lexer": "ipython3",
   "version": "3.11.13"
  },
  "papermill": {
   "default_parameters": {},
   "duration": 104.95201,
   "end_time": "2025-10-13T11:45:47.772895",
   "environment_variables": {},
   "exception": null,
   "input_path": "__notebook__.ipynb",
   "output_path": "__notebook__.ipynb",
   "parameters": {},
   "start_time": "2025-10-13T11:44:02.820885",
   "version": "2.6.0"
  },
  "widgets": {
   "application/vnd.jupyter.widget-state+json": {
    "state": {
     "08217e59b2b74e81b5cf0487c195d442": {
      "model_module": "@jupyter-widgets/controls",
      "model_module_version": "2.0.0",
      "model_name": "HTMLModel",
      "state": {
       "_dom_classes": [],
       "_model_module": "@jupyter-widgets/controls",
       "_model_module_version": "2.0.0",
       "_model_name": "HTMLModel",
       "_view_count": null,
       "_view_module": "@jupyter-widgets/controls",
       "_view_module_version": "2.0.0",
       "_view_name": "HTMLView",
       "description": "",
       "description_allow_html": false,
       "layout": "IPY_MODEL_538142813567430888e46c95ca1fab71",
       "placeholder": "​",
       "style": "IPY_MODEL_dabf747b704f4d17bf83499e630de82c",
       "tabbable": null,
       "tooltip": null,
       "value": " 2/2 [00:27&lt;00:00, 13.74s/it]"
      }
     },
     "228f164e6b1d4a3e8be44459d41084cb": {
      "model_module": "@jupyter-widgets/controls",
      "model_module_version": "2.0.0",
      "model_name": "HTMLModel",
      "state": {
       "_dom_classes": [],
       "_model_module": "@jupyter-widgets/controls",
       "_model_module_version": "2.0.0",
       "_model_name": "HTMLModel",
       "_view_count": null,
       "_view_module": "@jupyter-widgets/controls",
       "_view_module_version": "2.0.0",
       "_view_name": "HTMLView",
       "description": "",
       "description_allow_html": false,
       "layout": "IPY_MODEL_54a678a2746f42edaefc4f9bd28eab1f",
       "placeholder": "​",
       "style": "IPY_MODEL_d1f0ecb17d2246f09610a27bf2b3ceb7",
       "tabbable": null,
       "tooltip": null,
       "value": " 2/2 [00:21&lt;00:00, 11.08s/it]"
      }
     },
     "30d284d2534643898f75fc6df9c6892c": {
      "model_module": "@jupyter-widgets/controls",
      "model_module_version": "2.0.0",
      "model_name": "FloatProgressModel",
      "state": {
       "_dom_classes": [],
       "_model_module": "@jupyter-widgets/controls",
       "_model_module_version": "2.0.0",
       "_model_name": "FloatProgressModel",
       "_view_count": null,
       "_view_module": "@jupyter-widgets/controls",
       "_view_module_version": "2.0.0",
       "_view_name": "ProgressView",
       "bar_style": "success",
       "description": "",
       "description_allow_html": false,
       "layout": "IPY_MODEL_ed963c77616a4fecadd29be131f6edd1",
       "max": 2.0,
       "min": 0.0,
       "orientation": "horizontal",
       "style": "IPY_MODEL_e02227eee4d04cbd8658bbed9697710e",
       "tabbable": null,
       "tooltip": null,
       "value": 2.0
      }
     },
     "3de784ecac9c4787b90a559e51efb9df": {
      "model_module": "@jupyter-widgets/controls",
      "model_module_version": "2.0.0",
      "model_name": "HBoxModel",
      "state": {
       "_dom_classes": [],
       "_model_module": "@jupyter-widgets/controls",
       "_model_module_version": "2.0.0",
       "_model_name": "HBoxModel",
       "_view_count": null,
       "_view_module": "@jupyter-widgets/controls",
       "_view_module_version": "2.0.0",
       "_view_name": "HBoxView",
       "box_style": "",
       "children": [
        "IPY_MODEL_a1da94a02d50436f8d06567f64bcd2ac",
        "IPY_MODEL_c37b7d566c8e4591a4f40e64628b3485",
        "IPY_MODEL_228f164e6b1d4a3e8be44459d41084cb"
       ],
       "layout": "IPY_MODEL_c54b54b232574c0cb613f858a0068b46",
       "tabbable": null,
       "tooltip": null
      }
     },
     "446c17f5eff7422b88943ef5bfe2e9e7": {
      "model_module": "@jupyter-widgets/controls",
      "model_module_version": "2.0.0",
      "model_name": "HTMLStyleModel",
      "state": {
       "_model_module": "@jupyter-widgets/controls",
       "_model_module_version": "2.0.0",
       "_model_name": "HTMLStyleModel",
       "_view_count": null,
       "_view_module": "@jupyter-widgets/base",
       "_view_module_version": "2.0.0",
       "_view_name": "StyleView",
       "background": null,
       "description_width": "",
       "font_size": null,
       "text_color": null
      }
     },
     "538142813567430888e46c95ca1fab71": {
      "model_module": "@jupyter-widgets/base",
      "model_module_version": "2.0.0",
      "model_name": "LayoutModel",
      "state": {
       "_model_module": "@jupyter-widgets/base",
       "_model_module_version": "2.0.0",
       "_model_name": "LayoutModel",
       "_view_count": null,
       "_view_module": "@jupyter-widgets/base",
       "_view_module_version": "2.0.0",
       "_view_name": "LayoutView",
       "align_content": null,
       "align_items": null,
       "align_self": null,
       "border_bottom": null,
       "border_left": null,
       "border_right": null,
       "border_top": null,
       "bottom": null,
       "display": null,
       "flex": null,
       "flex_flow": null,
       "grid_area": null,
       "grid_auto_columns": null,
       "grid_auto_flow": null,
       "grid_auto_rows": null,
       "grid_column": null,
       "grid_gap": null,
       "grid_row": null,
       "grid_template_areas": null,
       "grid_template_columns": null,
       "grid_template_rows": null,
       "height": null,
       "justify_content": null,
       "justify_items": null,
       "left": null,
       "margin": null,
       "max_height": null,
       "max_width": null,
       "min_height": null,
       "min_width": null,
       "object_fit": null,
       "object_position": null,
       "order": null,
       "overflow": null,
       "padding": null,
       "right": null,
       "top": null,
       "visibility": null,
       "width": null
      }
     },
     "54a678a2746f42edaefc4f9bd28eab1f": {
      "model_module": "@jupyter-widgets/base",
      "model_module_version": "2.0.0",
      "model_name": "LayoutModel",
      "state": {
       "_model_module": "@jupyter-widgets/base",
       "_model_module_version": "2.0.0",
       "_model_name": "LayoutModel",
       "_view_count": null,
       "_view_module": "@jupyter-widgets/base",
       "_view_module_version": "2.0.0",
       "_view_name": "LayoutView",
       "align_content": null,
       "align_items": null,
       "align_self": null,
       "border_bottom": null,
       "border_left": null,
       "border_right": null,
       "border_top": null,
       "bottom": null,
       "display": null,
       "flex": null,
       "flex_flow": null,
       "grid_area": null,
       "grid_auto_columns": null,
       "grid_auto_flow": null,
       "grid_auto_rows": null,
       "grid_column": null,
       "grid_gap": null,
       "grid_row": null,
       "grid_template_areas": null,
       "grid_template_columns": null,
       "grid_template_rows": null,
       "height": null,
       "justify_content": null,
       "justify_items": null,
       "left": null,
       "margin": null,
       "max_height": null,
       "max_width": null,
       "min_height": null,
       "min_width": null,
       "object_fit": null,
       "object_position": null,
       "order": null,
       "overflow": null,
       "padding": null,
       "right": null,
       "top": null,
       "visibility": null,
       "width": null
      }
     },
     "6d1e555882e3488a895607d20f14b10c": {
      "model_module": "@jupyter-widgets/base",
      "model_module_version": "2.0.0",
      "model_name": "LayoutModel",
      "state": {
       "_model_module": "@jupyter-widgets/base",
       "_model_module_version": "2.0.0",
       "_model_name": "LayoutModel",
       "_view_count": null,
       "_view_module": "@jupyter-widgets/base",
       "_view_module_version": "2.0.0",
       "_view_name": "LayoutView",
       "align_content": null,
       "align_items": null,
       "align_self": null,
       "border_bottom": null,
       "border_left": null,
       "border_right": null,
       "border_top": null,
       "bottom": null,
       "display": null,
       "flex": null,
       "flex_flow": null,
       "grid_area": null,
       "grid_auto_columns": null,
       "grid_auto_flow": null,
       "grid_auto_rows": null,
       "grid_column": null,
       "grid_gap": null,
       "grid_row": null,
       "grid_template_areas": null,
       "grid_template_columns": null,
       "grid_template_rows": null,
       "height": null,
       "justify_content": null,
       "justify_items": null,
       "left": null,
       "margin": null,
       "max_height": null,
       "max_width": null,
       "min_height": null,
       "min_width": null,
       "object_fit": null,
       "object_position": null,
       "order": null,
       "overflow": null,
       "padding": null,
       "right": null,
       "top": null,
       "visibility": null,
       "width": null
      }
     },
     "7307a78624d542579974a4923dcd406b": {
      "model_module": "@jupyter-widgets/controls",
      "model_module_version": "2.0.0",
      "model_name": "HTMLStyleModel",
      "state": {
       "_model_module": "@jupyter-widgets/controls",
       "_model_module_version": "2.0.0",
       "_model_name": "HTMLStyleModel",
       "_view_count": null,
       "_view_module": "@jupyter-widgets/base",
       "_view_module_version": "2.0.0",
       "_view_name": "StyleView",
       "background": null,
       "description_width": "",
       "font_size": null,
       "text_color": null
      }
     },
     "7ac2aae63b534fe89bff5157072d1353": {
      "model_module": "@jupyter-widgets/base",
      "model_module_version": "2.0.0",
      "model_name": "LayoutModel",
      "state": {
       "_model_module": "@jupyter-widgets/base",
       "_model_module_version": "2.0.0",
       "_model_name": "LayoutModel",
       "_view_count": null,
       "_view_module": "@jupyter-widgets/base",
       "_view_module_version": "2.0.0",
       "_view_name": "LayoutView",
       "align_content": null,
       "align_items": null,
       "align_self": null,
       "border_bottom": null,
       "border_left": null,
       "border_right": null,
       "border_top": null,
       "bottom": null,
       "display": null,
       "flex": null,
       "flex_flow": null,
       "grid_area": null,
       "grid_auto_columns": null,
       "grid_auto_flow": null,
       "grid_auto_rows": null,
       "grid_column": null,
       "grid_gap": null,
       "grid_row": null,
       "grid_template_areas": null,
       "grid_template_columns": null,
       "grid_template_rows": null,
       "height": null,
       "justify_content": null,
       "justify_items": null,
       "left": null,
       "margin": null,
       "max_height": null,
       "max_width": null,
       "min_height": null,
       "min_width": null,
       "object_fit": null,
       "object_position": null,
       "order": null,
       "overflow": null,
       "padding": null,
       "right": null,
       "top": null,
       "visibility": null,
       "width": null
      }
     },
     "a1da94a02d50436f8d06567f64bcd2ac": {
      "model_module": "@jupyter-widgets/controls",
      "model_module_version": "2.0.0",
      "model_name": "HTMLModel",
      "state": {
       "_dom_classes": [],
       "_model_module": "@jupyter-widgets/controls",
       "_model_module_version": "2.0.0",
       "_model_name": "HTMLModel",
       "_view_count": null,
       "_view_module": "@jupyter-widgets/controls",
       "_view_module_version": "2.0.0",
       "_view_name": "HTMLView",
       "description": "",
       "description_allow_html": false,
       "layout": "IPY_MODEL_7ac2aae63b534fe89bff5157072d1353",
       "placeholder": "​",
       "style": "IPY_MODEL_7307a78624d542579974a4923dcd406b",
       "tabbable": null,
       "tooltip": null,
       "value": "Processando regras: 100%"
      }
     },
     "b1dbca71c8e043fd8d76786fd17ee89b": {
      "model_module": "@jupyter-widgets/controls",
      "model_module_version": "2.0.0",
      "model_name": "HTMLModel",
      "state": {
       "_dom_classes": [],
       "_model_module": "@jupyter-widgets/controls",
       "_model_module_version": "2.0.0",
       "_model_name": "HTMLModel",
       "_view_count": null,
       "_view_module": "@jupyter-widgets/controls",
       "_view_module_version": "2.0.0",
       "_view_name": "HTMLView",
       "description": "",
       "description_allow_html": false,
       "layout": "IPY_MODEL_6d1e555882e3488a895607d20f14b10c",
       "placeholder": "​",
       "style": "IPY_MODEL_446c17f5eff7422b88943ef5bfe2e9e7",
       "tabbable": null,
       "tooltip": null,
       "value": "Processando regras: 100%"
      }
     },
     "b82344560bff48b98d0bcffc00afc842": {
      "model_module": "@jupyter-widgets/base",
      "model_module_version": "2.0.0",
      "model_name": "LayoutModel",
      "state": {
       "_model_module": "@jupyter-widgets/base",
       "_model_module_version": "2.0.0",
       "_model_name": "LayoutModel",
       "_view_count": null,
       "_view_module": "@jupyter-widgets/base",
       "_view_module_version": "2.0.0",
       "_view_name": "LayoutView",
       "align_content": null,
       "align_items": null,
       "align_self": null,
       "border_bottom": null,
       "border_left": null,
       "border_right": null,
       "border_top": null,
       "bottom": null,
       "display": null,
       "flex": null,
       "flex_flow": null,
       "grid_area": null,
       "grid_auto_columns": null,
       "grid_auto_flow": null,
       "grid_auto_rows": null,
       "grid_column": null,
       "grid_gap": null,
       "grid_row": null,
       "grid_template_areas": null,
       "grid_template_columns": null,
       "grid_template_rows": null,
       "height": null,
       "justify_content": null,
       "justify_items": null,
       "left": null,
       "margin": null,
       "max_height": null,
       "max_width": null,
       "min_height": null,
       "min_width": null,
       "object_fit": null,
       "object_position": null,
       "order": null,
       "overflow": null,
       "padding": null,
       "right": null,
       "top": null,
       "visibility": null,
       "width": null
      }
     },
     "b9496994972146b7b4f7043030877b52": {
      "model_module": "@jupyter-widgets/controls",
      "model_module_version": "2.0.0",
      "model_name": "ProgressStyleModel",
      "state": {
       "_model_module": "@jupyter-widgets/controls",
       "_model_module_version": "2.0.0",
       "_model_name": "ProgressStyleModel",
       "_view_count": null,
       "_view_module": "@jupyter-widgets/base",
       "_view_module_version": "2.0.0",
       "_view_name": "StyleView",
       "bar_color": null,
       "description_width": ""
      }
     },
     "be083e1e0bc545eaab486c6c989b6818": {
      "model_module": "@jupyter-widgets/base",
      "model_module_version": "2.0.0",
      "model_name": "LayoutModel",
      "state": {
       "_model_module": "@jupyter-widgets/base",
       "_model_module_version": "2.0.0",
       "_model_name": "LayoutModel",
       "_view_count": null,
       "_view_module": "@jupyter-widgets/base",
       "_view_module_version": "2.0.0",
       "_view_name": "LayoutView",
       "align_content": null,
       "align_items": null,
       "align_self": null,
       "border_bottom": null,
       "border_left": null,
       "border_right": null,
       "border_top": null,
       "bottom": null,
       "display": null,
       "flex": null,
       "flex_flow": null,
       "grid_area": null,
       "grid_auto_columns": null,
       "grid_auto_flow": null,
       "grid_auto_rows": null,
       "grid_column": null,
       "grid_gap": null,
       "grid_row": null,
       "grid_template_areas": null,
       "grid_template_columns": null,
       "grid_template_rows": null,
       "height": null,
       "justify_content": null,
       "justify_items": null,
       "left": null,
       "margin": null,
       "max_height": null,
       "max_width": null,
       "min_height": null,
       "min_width": null,
       "object_fit": null,
       "object_position": null,
       "order": null,
       "overflow": null,
       "padding": null,
       "right": null,
       "top": null,
       "visibility": null,
       "width": null
      }
     },
     "c37b7d566c8e4591a4f40e64628b3485": {
      "model_module": "@jupyter-widgets/controls",
      "model_module_version": "2.0.0",
      "model_name": "FloatProgressModel",
      "state": {
       "_dom_classes": [],
       "_model_module": "@jupyter-widgets/controls",
       "_model_module_version": "2.0.0",
       "_model_name": "FloatProgressModel",
       "_view_count": null,
       "_view_module": "@jupyter-widgets/controls",
       "_view_module_version": "2.0.0",
       "_view_name": "ProgressView",
       "bar_style": "success",
       "description": "",
       "description_allow_html": false,
       "layout": "IPY_MODEL_b82344560bff48b98d0bcffc00afc842",
       "max": 2.0,
       "min": 0.0,
       "orientation": "horizontal",
       "style": "IPY_MODEL_b9496994972146b7b4f7043030877b52",
       "tabbable": null,
       "tooltip": null,
       "value": 2.0
      }
     },
     "c54b54b232574c0cb613f858a0068b46": {
      "model_module": "@jupyter-widgets/base",
      "model_module_version": "2.0.0",
      "model_name": "LayoutModel",
      "state": {
       "_model_module": "@jupyter-widgets/base",
       "_model_module_version": "2.0.0",
       "_model_name": "LayoutModel",
       "_view_count": null,
       "_view_module": "@jupyter-widgets/base",
       "_view_module_version": "2.0.0",
       "_view_name": "LayoutView",
       "align_content": null,
       "align_items": null,
       "align_self": null,
       "border_bottom": null,
       "border_left": null,
       "border_right": null,
       "border_top": null,
       "bottom": null,
       "display": null,
       "flex": null,
       "flex_flow": null,
       "grid_area": null,
       "grid_auto_columns": null,
       "grid_auto_flow": null,
       "grid_auto_rows": null,
       "grid_column": null,
       "grid_gap": null,
       "grid_row": null,
       "grid_template_areas": null,
       "grid_template_columns": null,
       "grid_template_rows": null,
       "height": null,
       "justify_content": null,
       "justify_items": null,
       "left": null,
       "margin": null,
       "max_height": null,
       "max_width": null,
       "min_height": null,
       "min_width": null,
       "object_fit": null,
       "object_position": null,
       "order": null,
       "overflow": null,
       "padding": null,
       "right": null,
       "top": null,
       "visibility": null,
       "width": null
      }
     },
     "d1f0ecb17d2246f09610a27bf2b3ceb7": {
      "model_module": "@jupyter-widgets/controls",
      "model_module_version": "2.0.0",
      "model_name": "HTMLStyleModel",
      "state": {
       "_model_module": "@jupyter-widgets/controls",
       "_model_module_version": "2.0.0",
       "_model_name": "HTMLStyleModel",
       "_view_count": null,
       "_view_module": "@jupyter-widgets/base",
       "_view_module_version": "2.0.0",
       "_view_name": "StyleView",
       "background": null,
       "description_width": "",
       "font_size": null,
       "text_color": null
      }
     },
     "dabf747b704f4d17bf83499e630de82c": {
      "model_module": "@jupyter-widgets/controls",
      "model_module_version": "2.0.0",
      "model_name": "HTMLStyleModel",
      "state": {
       "_model_module": "@jupyter-widgets/controls",
       "_model_module_version": "2.0.0",
       "_model_name": "HTMLStyleModel",
       "_view_count": null,
       "_view_module": "@jupyter-widgets/base",
       "_view_module_version": "2.0.0",
       "_view_name": "StyleView",
       "background": null,
       "description_width": "",
       "font_size": null,
       "text_color": null
      }
     },
     "e02227eee4d04cbd8658bbed9697710e": {
      "model_module": "@jupyter-widgets/controls",
      "model_module_version": "2.0.0",
      "model_name": "ProgressStyleModel",
      "state": {
       "_model_module": "@jupyter-widgets/controls",
       "_model_module_version": "2.0.0",
       "_model_name": "ProgressStyleModel",
       "_view_count": null,
       "_view_module": "@jupyter-widgets/base",
       "_view_module_version": "2.0.0",
       "_view_name": "StyleView",
       "bar_color": null,
       "description_width": ""
      }
     },
     "e262cf5a71874cff801efd4450c7db23": {
      "model_module": "@jupyter-widgets/controls",
      "model_module_version": "2.0.0",
      "model_name": "HBoxModel",
      "state": {
       "_dom_classes": [],
       "_model_module": "@jupyter-widgets/controls",
       "_model_module_version": "2.0.0",
       "_model_name": "HBoxModel",
       "_view_count": null,
       "_view_module": "@jupyter-widgets/controls",
       "_view_module_version": "2.0.0",
       "_view_name": "HBoxView",
       "box_style": "",
       "children": [
        "IPY_MODEL_b1dbca71c8e043fd8d76786fd17ee89b",
        "IPY_MODEL_30d284d2534643898f75fc6df9c6892c",
        "IPY_MODEL_08217e59b2b74e81b5cf0487c195d442"
       ],
       "layout": "IPY_MODEL_be083e1e0bc545eaab486c6c989b6818",
       "tabbable": null,
       "tooltip": null
      }
     },
     "ed963c77616a4fecadd29be131f6edd1": {
      "model_module": "@jupyter-widgets/base",
      "model_module_version": "2.0.0",
      "model_name": "LayoutModel",
      "state": {
       "_model_module": "@jupyter-widgets/base",
       "_model_module_version": "2.0.0",
       "_model_name": "LayoutModel",
       "_view_count": null,
       "_view_module": "@jupyter-widgets/base",
       "_view_module_version": "2.0.0",
       "_view_name": "LayoutView",
       "align_content": null,
       "align_items": null,
       "align_self": null,
       "border_bottom": null,
       "border_left": null,
       "border_right": null,
       "border_top": null,
       "bottom": null,
       "display": null,
       "flex": null,
       "flex_flow": null,
       "grid_area": null,
       "grid_auto_columns": null,
       "grid_auto_flow": null,
       "grid_auto_rows": null,
       "grid_column": null,
       "grid_gap": null,
       "grid_row": null,
       "grid_template_areas": null,
       "grid_template_columns": null,
       "grid_template_rows": null,
       "height": null,
       "justify_content": null,
       "justify_items": null,
       "left": null,
       "margin": null,
       "max_height": null,
       "max_width": null,
       "min_height": null,
       "min_width": null,
       "object_fit": null,
       "object_position": null,
       "order": null,
       "overflow": null,
       "padding": null,
       "right": null,
       "top": null,
       "visibility": null,
       "width": null
      }
     }
    },
    "version_major": 2,
    "version_minor": 0
   }
  }
 },
 "nbformat": 4,
 "nbformat_minor": 5
}
